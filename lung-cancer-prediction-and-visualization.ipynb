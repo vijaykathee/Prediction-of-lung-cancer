{
 "cells": [
  {
   "cell_type": "code",
   "execution_count": 1,
   "id": "b452dd22",
   "metadata": {
    "_cell_guid": "b1076dfc-b9ad-4769-8c92-a6c4dae69d19",
    "_uuid": "8f2839f25d086af736a60e9eeb907d3b93b6e0e5",
    "execution": {
     "iopub.execute_input": "2023-01-09T16:20:24.887293Z",
     "iopub.status.busy": "2023-01-09T16:20:24.886725Z",
     "iopub.status.idle": "2023-01-09T16:20:27.381426Z",
     "shell.execute_reply": "2023-01-09T16:20:27.380018Z"
    },
    "papermill": {
     "duration": 2.514195,
     "end_time": "2023-01-09T16:20:27.384699",
     "exception": false,
     "start_time": "2023-01-09T16:20:24.870504",
     "status": "completed"
    },
    "tags": []
   },
   "outputs": [],
   "source": [
    "# Importing Necessary Libraries and Functions\n",
    "\n",
    "import matplotlib.pyplot as plt\n",
    "import seaborn as sns\n",
    "import pandas as pd\n",
    "import numpy as np\n",
    "import plotly.express as px\n",
    "\n",
    "from scipy import stats\n",
    "from scipy.stats import norm, skew\n",
    "\n",
    "from sklearn import preprocessing\n",
    "from sklearn.model_selection import train_test_split\n",
    "from sklearn.linear_model import LogisticRegression\n",
    "from sklearn.tree import DecisionTreeClassifier\n",
    "from sklearn.naive_bayes import GaussianNB\n",
    "from sklearn.neighbors import KNeighborsClassifier\n",
    "from sklearn.metrics import confusion_matrix\n",
    "from sklearn.metrics import classification_report\n",
    "from sklearn.preprocessing import StandardScaler\n"
   ]
  },
  {
   "cell_type": "markdown",
   "id": "0de1c097",
   "metadata": {
    "papermill": {
     "duration": 0.014193,
     "end_time": "2023-01-09T16:20:27.411447",
     "exception": false,
     "start_time": "2023-01-09T16:20:27.397254",
     "status": "completed"
    },
    "tags": []
   },
   "source": [
    "# **Reading The .csv File**"
   ]
  },
  {
   "cell_type": "code",
   "execution_count": 2,
   "id": "99e0e516",
   "metadata": {
    "execution": {
     "iopub.execute_input": "2023-01-09T16:20:27.438046Z",
     "iopub.status.busy": "2023-01-09T16:20:27.437553Z",
     "iopub.status.idle": "2023-01-09T16:20:27.520829Z",
     "shell.execute_reply": "2023-01-09T16:20:27.519269Z"
    },
    "papermill": {
     "duration": 0.10085,
     "end_time": "2023-01-09T16:20:27.524701",
     "exception": false,
     "start_time": "2023-01-09T16:20:27.423851",
     "status": "completed"
    },
    "scrolled": false,
    "tags": []
   },
   "outputs": [
    {
     "data": {
      "text/html": [
       "<div>\n",
       "<style scoped>\n",
       "    .dataframe tbody tr th:only-of-type {\n",
       "        vertical-align: middle;\n",
       "    }\n",
       "\n",
       "    .dataframe tbody tr th {\n",
       "        vertical-align: top;\n",
       "    }\n",
       "\n",
       "    .dataframe thead th {\n",
       "        text-align: right;\n",
       "    }\n",
       "</style>\n",
       "<table border=\"1\" class=\"dataframe\">\n",
       "  <thead>\n",
       "    <tr style=\"text-align: right;\">\n",
       "      <th></th>\n",
       "      <th>Patient Id</th>\n",
       "      <th>Age</th>\n",
       "      <th>Gender</th>\n",
       "      <th>Air Pollution</th>\n",
       "      <th>Alcohol use</th>\n",
       "      <th>Dust Allergy</th>\n",
       "      <th>Genetic Risk</th>\n",
       "      <th>chronic Lung Disease</th>\n",
       "      <th>Balanced Diet</th>\n",
       "      <th>Obesity</th>\n",
       "      <th>Smoking</th>\n",
       "      <th>Chest Pain</th>\n",
       "      <th>Coughing of Blood</th>\n",
       "      <th>Weight Loss</th>\n",
       "      <th>Shortness of Breath</th>\n",
       "      <th>Frequent Cold</th>\n",
       "      <th>Dry Cough</th>\n",
       "      <th>Level</th>\n",
       "    </tr>\n",
       "    <tr>\n",
       "      <th>index</th>\n",
       "      <th></th>\n",
       "      <th></th>\n",
       "      <th></th>\n",
       "      <th></th>\n",
       "      <th></th>\n",
       "      <th></th>\n",
       "      <th></th>\n",
       "      <th></th>\n",
       "      <th></th>\n",
       "      <th></th>\n",
       "      <th></th>\n",
       "      <th></th>\n",
       "      <th></th>\n",
       "      <th></th>\n",
       "      <th></th>\n",
       "      <th></th>\n",
       "      <th></th>\n",
       "      <th></th>\n",
       "    </tr>\n",
       "  </thead>\n",
       "  <tbody>\n",
       "    <tr>\n",
       "      <th>0</th>\n",
       "      <td>P1</td>\n",
       "      <td>33</td>\n",
       "      <td>1</td>\n",
       "      <td>2</td>\n",
       "      <td>4</td>\n",
       "      <td>5</td>\n",
       "      <td>3</td>\n",
       "      <td>2</td>\n",
       "      <td>2</td>\n",
       "      <td>4</td>\n",
       "      <td>3</td>\n",
       "      <td>2</td>\n",
       "      <td>4</td>\n",
       "      <td>4</td>\n",
       "      <td>2</td>\n",
       "      <td>2</td>\n",
       "      <td>3</td>\n",
       "      <td>Low</td>\n",
       "    </tr>\n",
       "    <tr>\n",
       "      <th>1</th>\n",
       "      <td>P10</td>\n",
       "      <td>17</td>\n",
       "      <td>1</td>\n",
       "      <td>3</td>\n",
       "      <td>1</td>\n",
       "      <td>5</td>\n",
       "      <td>4</td>\n",
       "      <td>2</td>\n",
       "      <td>2</td>\n",
       "      <td>2</td>\n",
       "      <td>2</td>\n",
       "      <td>2</td>\n",
       "      <td>3</td>\n",
       "      <td>3</td>\n",
       "      <td>7</td>\n",
       "      <td>1</td>\n",
       "      <td>7</td>\n",
       "      <td>Medium</td>\n",
       "    </tr>\n",
       "    <tr>\n",
       "      <th>2</th>\n",
       "      <td>P100</td>\n",
       "      <td>35</td>\n",
       "      <td>1</td>\n",
       "      <td>4</td>\n",
       "      <td>5</td>\n",
       "      <td>6</td>\n",
       "      <td>5</td>\n",
       "      <td>4</td>\n",
       "      <td>6</td>\n",
       "      <td>7</td>\n",
       "      <td>2</td>\n",
       "      <td>4</td>\n",
       "      <td>8</td>\n",
       "      <td>7</td>\n",
       "      <td>9</td>\n",
       "      <td>6</td>\n",
       "      <td>7</td>\n",
       "      <td>High</td>\n",
       "    </tr>\n",
       "    <tr>\n",
       "      <th>3</th>\n",
       "      <td>P1000</td>\n",
       "      <td>37</td>\n",
       "      <td>1</td>\n",
       "      <td>7</td>\n",
       "      <td>7</td>\n",
       "      <td>7</td>\n",
       "      <td>6</td>\n",
       "      <td>7</td>\n",
       "      <td>7</td>\n",
       "      <td>7</td>\n",
       "      <td>7</td>\n",
       "      <td>7</td>\n",
       "      <td>8</td>\n",
       "      <td>2</td>\n",
       "      <td>3</td>\n",
       "      <td>6</td>\n",
       "      <td>7</td>\n",
       "      <td>High</td>\n",
       "    </tr>\n",
       "    <tr>\n",
       "      <th>4</th>\n",
       "      <td>P101</td>\n",
       "      <td>46</td>\n",
       "      <td>1</td>\n",
       "      <td>6</td>\n",
       "      <td>8</td>\n",
       "      <td>7</td>\n",
       "      <td>7</td>\n",
       "      <td>6</td>\n",
       "      <td>7</td>\n",
       "      <td>7</td>\n",
       "      <td>8</td>\n",
       "      <td>7</td>\n",
       "      <td>9</td>\n",
       "      <td>2</td>\n",
       "      <td>4</td>\n",
       "      <td>4</td>\n",
       "      <td>2</td>\n",
       "      <td>High</td>\n",
       "    </tr>\n",
       "    <tr>\n",
       "      <th>...</th>\n",
       "      <td>...</td>\n",
       "      <td>...</td>\n",
       "      <td>...</td>\n",
       "      <td>...</td>\n",
       "      <td>...</td>\n",
       "      <td>...</td>\n",
       "      <td>...</td>\n",
       "      <td>...</td>\n",
       "      <td>...</td>\n",
       "      <td>...</td>\n",
       "      <td>...</td>\n",
       "      <td>...</td>\n",
       "      <td>...</td>\n",
       "      <td>...</td>\n",
       "      <td>...</td>\n",
       "      <td>...</td>\n",
       "      <td>...</td>\n",
       "      <td>...</td>\n",
       "    </tr>\n",
       "    <tr>\n",
       "      <th>995</th>\n",
       "      <td>P995</td>\n",
       "      <td>44</td>\n",
       "      <td>1</td>\n",
       "      <td>6</td>\n",
       "      <td>7</td>\n",
       "      <td>7</td>\n",
       "      <td>7</td>\n",
       "      <td>6</td>\n",
       "      <td>7</td>\n",
       "      <td>7</td>\n",
       "      <td>7</td>\n",
       "      <td>7</td>\n",
       "      <td>7</td>\n",
       "      <td>3</td>\n",
       "      <td>2</td>\n",
       "      <td>4</td>\n",
       "      <td>5</td>\n",
       "      <td>High</td>\n",
       "    </tr>\n",
       "    <tr>\n",
       "      <th>996</th>\n",
       "      <td>P996</td>\n",
       "      <td>37</td>\n",
       "      <td>2</td>\n",
       "      <td>6</td>\n",
       "      <td>8</td>\n",
       "      <td>7</td>\n",
       "      <td>7</td>\n",
       "      <td>6</td>\n",
       "      <td>7</td>\n",
       "      <td>7</td>\n",
       "      <td>7</td>\n",
       "      <td>7</td>\n",
       "      <td>7</td>\n",
       "      <td>6</td>\n",
       "      <td>5</td>\n",
       "      <td>3</td>\n",
       "      <td>1</td>\n",
       "      <td>High</td>\n",
       "    </tr>\n",
       "    <tr>\n",
       "      <th>997</th>\n",
       "      <td>P997</td>\n",
       "      <td>25</td>\n",
       "      <td>2</td>\n",
       "      <td>4</td>\n",
       "      <td>5</td>\n",
       "      <td>6</td>\n",
       "      <td>5</td>\n",
       "      <td>4</td>\n",
       "      <td>6</td>\n",
       "      <td>7</td>\n",
       "      <td>2</td>\n",
       "      <td>4</td>\n",
       "      <td>8</td>\n",
       "      <td>7</td>\n",
       "      <td>9</td>\n",
       "      <td>6</td>\n",
       "      <td>7</td>\n",
       "      <td>High</td>\n",
       "    </tr>\n",
       "    <tr>\n",
       "      <th>998</th>\n",
       "      <td>P998</td>\n",
       "      <td>18</td>\n",
       "      <td>2</td>\n",
       "      <td>6</td>\n",
       "      <td>8</td>\n",
       "      <td>7</td>\n",
       "      <td>7</td>\n",
       "      <td>6</td>\n",
       "      <td>7</td>\n",
       "      <td>7</td>\n",
       "      <td>8</td>\n",
       "      <td>7</td>\n",
       "      <td>9</td>\n",
       "      <td>2</td>\n",
       "      <td>4</td>\n",
       "      <td>4</td>\n",
       "      <td>2</td>\n",
       "      <td>High</td>\n",
       "    </tr>\n",
       "    <tr>\n",
       "      <th>999</th>\n",
       "      <td>P999</td>\n",
       "      <td>47</td>\n",
       "      <td>1</td>\n",
       "      <td>6</td>\n",
       "      <td>5</td>\n",
       "      <td>6</td>\n",
       "      <td>5</td>\n",
       "      <td>4</td>\n",
       "      <td>6</td>\n",
       "      <td>7</td>\n",
       "      <td>2</td>\n",
       "      <td>4</td>\n",
       "      <td>8</td>\n",
       "      <td>7</td>\n",
       "      <td>9</td>\n",
       "      <td>6</td>\n",
       "      <td>7</td>\n",
       "      <td>High</td>\n",
       "    </tr>\n",
       "  </tbody>\n",
       "</table>\n",
       "<p>1000 rows × 18 columns</p>\n",
       "</div>"
      ],
      "text/plain": [
       "      Patient Id  Age  Gender  Air Pollution  Alcohol use  Dust Allergy  \\\n",
       "index                                                                     \n",
       "0             P1   33       1              2            4             5   \n",
       "1            P10   17       1              3            1             5   \n",
       "2           P100   35       1              4            5             6   \n",
       "3          P1000   37       1              7            7             7   \n",
       "4           P101   46       1              6            8             7   \n",
       "...          ...  ...     ...            ...          ...           ...   \n",
       "995         P995   44       1              6            7             7   \n",
       "996         P996   37       2              6            8             7   \n",
       "997         P997   25       2              4            5             6   \n",
       "998         P998   18       2              6            8             7   \n",
       "999         P999   47       1              6            5             6   \n",
       "\n",
       "       Genetic Risk  chronic Lung Disease  Balanced Diet  Obesity  Smoking  \\\n",
       "index                                                                        \n",
       "0                 3                     2              2        4        3   \n",
       "1                 4                     2              2        2        2   \n",
       "2                 5                     4              6        7        2   \n",
       "3                 6                     7              7        7        7   \n",
       "4                 7                     6              7        7        8   \n",
       "...             ...                   ...            ...      ...      ...   \n",
       "995               7                     6              7        7        7   \n",
       "996               7                     6              7        7        7   \n",
       "997               5                     4              6        7        2   \n",
       "998               7                     6              7        7        8   \n",
       "999               5                     4              6        7        2   \n",
       "\n",
       "       Chest Pain  Coughing of Blood  Weight Loss  Shortness of Breath  \\\n",
       "index                                                                    \n",
       "0               2                  4            4                    2   \n",
       "1               2                  3            3                    7   \n",
       "2               4                  8            7                    9   \n",
       "3               7                  8            2                    3   \n",
       "4               7                  9            2                    4   \n",
       "...           ...                ...          ...                  ...   \n",
       "995             7                  7            3                    2   \n",
       "996             7                  7            6                    5   \n",
       "997             4                  8            7                    9   \n",
       "998             7                  9            2                    4   \n",
       "999             4                  8            7                    9   \n",
       "\n",
       "       Frequent Cold  Dry Cough   Level  \n",
       "index                                    \n",
       "0                  2          3     Low  \n",
       "1                  1          7  Medium  \n",
       "2                  6          7    High  \n",
       "3                  6          7    High  \n",
       "4                  4          2    High  \n",
       "...              ...        ...     ...  \n",
       "995                4          5    High  \n",
       "996                3          1    High  \n",
       "997                6          7    High  \n",
       "998                4          2    High  \n",
       "999                6          7    High  \n",
       "\n",
       "[1000 rows x 18 columns]"
      ]
     },
     "metadata": {},
     "output_type": "display_data"
    }
   ],
   "source": [
    "# Read csv File\n",
    "lung_cancer_dataset = pd.read_csv(\"C:/Users/vijay/Downloads/cancer patient data sets.csv\", index_col='index')\n",
    "\n",
    "# Display Data before cleaning\n",
    "display(lung_cancer_dataset)\n"
   ]
  },
  {
   "cell_type": "code",
   "execution_count": 3,
   "id": "ba76e37e",
   "metadata": {},
   "outputs": [
    {
     "data": {
      "text/plain": [
       "Patient Id              False\n",
       "Age                     False\n",
       "Gender                  False\n",
       "Air Pollution           False\n",
       "Alcohol use             False\n",
       "Dust Allergy            False\n",
       "Genetic Risk            False\n",
       "chronic Lung Disease    False\n",
       "Balanced Diet           False\n",
       "Obesity                 False\n",
       "Smoking                 False\n",
       "Chest Pain              False\n",
       "Coughing of Blood       False\n",
       "Weight Loss             False\n",
       "Shortness of Breath     False\n",
       "Frequent Cold           False\n",
       "Dry Cough               False\n",
       "Level                   False\n",
       "dtype: bool"
      ]
     },
     "execution_count": 3,
     "metadata": {},
     "output_type": "execute_result"
    }
   ],
   "source": [
    "#checking duplicate records\n",
    "lung_cancer_dataset[lung_cancer_dataset.duplicated()].any()"
   ]
  },
  {
   "cell_type": "markdown",
   "id": "85ab441d",
   "metadata": {
    "papermill": {
     "duration": 0.012773,
     "end_time": "2023-01-09T16:20:27.550854",
     "exception": false,
     "start_time": "2023-01-09T16:20:27.538081",
     "status": "completed"
    },
    "tags": []
   },
   "source": [
    "# **Dropping and Cleaning Data**"
   ]
  },
  {
   "cell_type": "code",
   "execution_count": 4,
   "id": "6fb121d7",
   "metadata": {
    "execution": {
     "iopub.execute_input": "2023-01-09T16:20:27.579062Z",
     "iopub.status.busy": "2023-01-09T16:20:27.578598Z",
     "iopub.status.idle": "2023-01-09T16:20:27.609113Z",
     "shell.execute_reply": "2023-01-09T16:20:27.607759Z"
    },
    "papermill": {
     "duration": 0.048303,
     "end_time": "2023-01-09T16:20:27.612141",
     "exception": false,
     "start_time": "2023-01-09T16:20:27.563838",
     "status": "completed"
    },
    "tags": []
   },
   "outputs": [],
   "source": [
    "# Index Column now refers to patient\n",
    "\n",
    "lung_cancer_dataset.drop(\"Patient Id\", axis=1, inplace=True)\n",
    "\n",
    "# Cleaning Column Names\n",
    "lung_cancer_dataset.rename(columns=str.lower, inplace=True)\n",
    "lung_cancer_dataset.rename(columns={col: col.replace(\" \", \"_\") for col in lung_cancer_dataset.columns}, inplace=True)\n"
   ]
  },
  {
   "cell_type": "code",
   "execution_count": 5,
   "id": "a5915b46",
   "metadata": {},
   "outputs": [
    {
     "data": {
      "text/html": [
       "<div>\n",
       "<style scoped>\n",
       "    .dataframe tbody tr th:only-of-type {\n",
       "        vertical-align: middle;\n",
       "    }\n",
       "\n",
       "    .dataframe tbody tr th {\n",
       "        vertical-align: top;\n",
       "    }\n",
       "\n",
       "    .dataframe thead th {\n",
       "        text-align: right;\n",
       "    }\n",
       "</style>\n",
       "<table border=\"1\" class=\"dataframe\">\n",
       "  <thead>\n",
       "    <tr style=\"text-align: right;\">\n",
       "      <th></th>\n",
       "      <th>age</th>\n",
       "      <th>gender</th>\n",
       "      <th>air_pollution</th>\n",
       "      <th>alcohol_use</th>\n",
       "      <th>dust_allergy</th>\n",
       "      <th>genetic_risk</th>\n",
       "      <th>chronic_lung_disease</th>\n",
       "      <th>balanced_diet</th>\n",
       "      <th>obesity</th>\n",
       "      <th>smoking</th>\n",
       "      <th>chest_pain</th>\n",
       "      <th>coughing_of_blood</th>\n",
       "      <th>weight_loss</th>\n",
       "      <th>shortness_of_breath</th>\n",
       "      <th>frequent_cold</th>\n",
       "      <th>dry_cough</th>\n",
       "      <th>level</th>\n",
       "    </tr>\n",
       "    <tr>\n",
       "      <th>index</th>\n",
       "      <th></th>\n",
       "      <th></th>\n",
       "      <th></th>\n",
       "      <th></th>\n",
       "      <th></th>\n",
       "      <th></th>\n",
       "      <th></th>\n",
       "      <th></th>\n",
       "      <th></th>\n",
       "      <th></th>\n",
       "      <th></th>\n",
       "      <th></th>\n",
       "      <th></th>\n",
       "      <th></th>\n",
       "      <th></th>\n",
       "      <th></th>\n",
       "      <th></th>\n",
       "    </tr>\n",
       "  </thead>\n",
       "  <tbody>\n",
       "    <tr>\n",
       "      <th>0</th>\n",
       "      <td>33</td>\n",
       "      <td>1</td>\n",
       "      <td>2</td>\n",
       "      <td>4</td>\n",
       "      <td>5</td>\n",
       "      <td>3</td>\n",
       "      <td>2</td>\n",
       "      <td>2</td>\n",
       "      <td>4</td>\n",
       "      <td>3</td>\n",
       "      <td>2</td>\n",
       "      <td>4</td>\n",
       "      <td>4</td>\n",
       "      <td>2</td>\n",
       "      <td>2</td>\n",
       "      <td>3</td>\n",
       "      <td>Low</td>\n",
       "    </tr>\n",
       "    <tr>\n",
       "      <th>1</th>\n",
       "      <td>17</td>\n",
       "      <td>1</td>\n",
       "      <td>3</td>\n",
       "      <td>1</td>\n",
       "      <td>5</td>\n",
       "      <td>4</td>\n",
       "      <td>2</td>\n",
       "      <td>2</td>\n",
       "      <td>2</td>\n",
       "      <td>2</td>\n",
       "      <td>2</td>\n",
       "      <td>3</td>\n",
       "      <td>3</td>\n",
       "      <td>7</td>\n",
       "      <td>1</td>\n",
       "      <td>7</td>\n",
       "      <td>Medium</td>\n",
       "    </tr>\n",
       "    <tr>\n",
       "      <th>2</th>\n",
       "      <td>35</td>\n",
       "      <td>1</td>\n",
       "      <td>4</td>\n",
       "      <td>5</td>\n",
       "      <td>6</td>\n",
       "      <td>5</td>\n",
       "      <td>4</td>\n",
       "      <td>6</td>\n",
       "      <td>7</td>\n",
       "      <td>2</td>\n",
       "      <td>4</td>\n",
       "      <td>8</td>\n",
       "      <td>7</td>\n",
       "      <td>9</td>\n",
       "      <td>6</td>\n",
       "      <td>7</td>\n",
       "      <td>High</td>\n",
       "    </tr>\n",
       "    <tr>\n",
       "      <th>3</th>\n",
       "      <td>37</td>\n",
       "      <td>1</td>\n",
       "      <td>7</td>\n",
       "      <td>7</td>\n",
       "      <td>7</td>\n",
       "      <td>6</td>\n",
       "      <td>7</td>\n",
       "      <td>7</td>\n",
       "      <td>7</td>\n",
       "      <td>7</td>\n",
       "      <td>7</td>\n",
       "      <td>8</td>\n",
       "      <td>2</td>\n",
       "      <td>3</td>\n",
       "      <td>6</td>\n",
       "      <td>7</td>\n",
       "      <td>High</td>\n",
       "    </tr>\n",
       "    <tr>\n",
       "      <th>4</th>\n",
       "      <td>46</td>\n",
       "      <td>1</td>\n",
       "      <td>6</td>\n",
       "      <td>8</td>\n",
       "      <td>7</td>\n",
       "      <td>7</td>\n",
       "      <td>6</td>\n",
       "      <td>7</td>\n",
       "      <td>7</td>\n",
       "      <td>8</td>\n",
       "      <td>7</td>\n",
       "      <td>9</td>\n",
       "      <td>2</td>\n",
       "      <td>4</td>\n",
       "      <td>4</td>\n",
       "      <td>2</td>\n",
       "      <td>High</td>\n",
       "    </tr>\n",
       "    <tr>\n",
       "      <th>...</th>\n",
       "      <td>...</td>\n",
       "      <td>...</td>\n",
       "      <td>...</td>\n",
       "      <td>...</td>\n",
       "      <td>...</td>\n",
       "      <td>...</td>\n",
       "      <td>...</td>\n",
       "      <td>...</td>\n",
       "      <td>...</td>\n",
       "      <td>...</td>\n",
       "      <td>...</td>\n",
       "      <td>...</td>\n",
       "      <td>...</td>\n",
       "      <td>...</td>\n",
       "      <td>...</td>\n",
       "      <td>...</td>\n",
       "      <td>...</td>\n",
       "    </tr>\n",
       "    <tr>\n",
       "      <th>995</th>\n",
       "      <td>44</td>\n",
       "      <td>1</td>\n",
       "      <td>6</td>\n",
       "      <td>7</td>\n",
       "      <td>7</td>\n",
       "      <td>7</td>\n",
       "      <td>6</td>\n",
       "      <td>7</td>\n",
       "      <td>7</td>\n",
       "      <td>7</td>\n",
       "      <td>7</td>\n",
       "      <td>7</td>\n",
       "      <td>3</td>\n",
       "      <td>2</td>\n",
       "      <td>4</td>\n",
       "      <td>5</td>\n",
       "      <td>High</td>\n",
       "    </tr>\n",
       "    <tr>\n",
       "      <th>996</th>\n",
       "      <td>37</td>\n",
       "      <td>2</td>\n",
       "      <td>6</td>\n",
       "      <td>8</td>\n",
       "      <td>7</td>\n",
       "      <td>7</td>\n",
       "      <td>6</td>\n",
       "      <td>7</td>\n",
       "      <td>7</td>\n",
       "      <td>7</td>\n",
       "      <td>7</td>\n",
       "      <td>7</td>\n",
       "      <td>6</td>\n",
       "      <td>5</td>\n",
       "      <td>3</td>\n",
       "      <td>1</td>\n",
       "      <td>High</td>\n",
       "    </tr>\n",
       "    <tr>\n",
       "      <th>997</th>\n",
       "      <td>25</td>\n",
       "      <td>2</td>\n",
       "      <td>4</td>\n",
       "      <td>5</td>\n",
       "      <td>6</td>\n",
       "      <td>5</td>\n",
       "      <td>4</td>\n",
       "      <td>6</td>\n",
       "      <td>7</td>\n",
       "      <td>2</td>\n",
       "      <td>4</td>\n",
       "      <td>8</td>\n",
       "      <td>7</td>\n",
       "      <td>9</td>\n",
       "      <td>6</td>\n",
       "      <td>7</td>\n",
       "      <td>High</td>\n",
       "    </tr>\n",
       "    <tr>\n",
       "      <th>998</th>\n",
       "      <td>18</td>\n",
       "      <td>2</td>\n",
       "      <td>6</td>\n",
       "      <td>8</td>\n",
       "      <td>7</td>\n",
       "      <td>7</td>\n",
       "      <td>6</td>\n",
       "      <td>7</td>\n",
       "      <td>7</td>\n",
       "      <td>8</td>\n",
       "      <td>7</td>\n",
       "      <td>9</td>\n",
       "      <td>2</td>\n",
       "      <td>4</td>\n",
       "      <td>4</td>\n",
       "      <td>2</td>\n",
       "      <td>High</td>\n",
       "    </tr>\n",
       "    <tr>\n",
       "      <th>999</th>\n",
       "      <td>47</td>\n",
       "      <td>1</td>\n",
       "      <td>6</td>\n",
       "      <td>5</td>\n",
       "      <td>6</td>\n",
       "      <td>5</td>\n",
       "      <td>4</td>\n",
       "      <td>6</td>\n",
       "      <td>7</td>\n",
       "      <td>2</td>\n",
       "      <td>4</td>\n",
       "      <td>8</td>\n",
       "      <td>7</td>\n",
       "      <td>9</td>\n",
       "      <td>6</td>\n",
       "      <td>7</td>\n",
       "      <td>High</td>\n",
       "    </tr>\n",
       "  </tbody>\n",
       "</table>\n",
       "<p>1000 rows × 17 columns</p>\n",
       "</div>"
      ],
      "text/plain": [
       "       age  gender  air_pollution  alcohol_use  dust_allergy  genetic_risk  \\\n",
       "index                                                                        \n",
       "0       33       1              2            4             5             3   \n",
       "1       17       1              3            1             5             4   \n",
       "2       35       1              4            5             6             5   \n",
       "3       37       1              7            7             7             6   \n",
       "4       46       1              6            8             7             7   \n",
       "...    ...     ...            ...          ...           ...           ...   \n",
       "995     44       1              6            7             7             7   \n",
       "996     37       2              6            8             7             7   \n",
       "997     25       2              4            5             6             5   \n",
       "998     18       2              6            8             7             7   \n",
       "999     47       1              6            5             6             5   \n",
       "\n",
       "       chronic_lung_disease  balanced_diet  obesity  smoking  chest_pain  \\\n",
       "index                                                                      \n",
       "0                         2              2        4        3           2   \n",
       "1                         2              2        2        2           2   \n",
       "2                         4              6        7        2           4   \n",
       "3                         7              7        7        7           7   \n",
       "4                         6              7        7        8           7   \n",
       "...                     ...            ...      ...      ...         ...   \n",
       "995                       6              7        7        7           7   \n",
       "996                       6              7        7        7           7   \n",
       "997                       4              6        7        2           4   \n",
       "998                       6              7        7        8           7   \n",
       "999                       4              6        7        2           4   \n",
       "\n",
       "       coughing_of_blood  weight_loss  shortness_of_breath  frequent_cold  \\\n",
       "index                                                                       \n",
       "0                      4            4                    2              2   \n",
       "1                      3            3                    7              1   \n",
       "2                      8            7                    9              6   \n",
       "3                      8            2                    3              6   \n",
       "4                      9            2                    4              4   \n",
       "...                  ...          ...                  ...            ...   \n",
       "995                    7            3                    2              4   \n",
       "996                    7            6                    5              3   \n",
       "997                    8            7                    9              6   \n",
       "998                    9            2                    4              4   \n",
       "999                    8            7                    9              6   \n",
       "\n",
       "       dry_cough   level  \n",
       "index                     \n",
       "0              3     Low  \n",
       "1              7  Medium  \n",
       "2              7    High  \n",
       "3              7    High  \n",
       "4              2    High  \n",
       "...          ...     ...  \n",
       "995            5    High  \n",
       "996            1    High  \n",
       "997            7    High  \n",
       "998            2    High  \n",
       "999            7    High  \n",
       "\n",
       "[1000 rows x 17 columns]"
      ]
     },
     "metadata": {},
     "output_type": "display_data"
    }
   ],
   "source": [
    "# Display Data After Cleaning\n",
    "display(lung_cancer_dataset)\n"
   ]
  },
  {
   "cell_type": "markdown",
   "id": "7781649f",
   "metadata": {
    "papermill": {
     "duration": 0.013307,
     "end_time": "2023-01-09T16:20:27.639542",
     "exception": false,
     "start_time": "2023-01-09T16:20:27.626235",
     "status": "completed"
    },
    "tags": []
   },
   "source": [
    "# **Check for Null Values**"
   ]
  },
  {
   "cell_type": "code",
   "execution_count": 6,
   "id": "c310ff2b",
   "metadata": {
    "execution": {
     "iopub.execute_input": "2023-01-09T16:20:27.669021Z",
     "iopub.status.busy": "2023-01-09T16:20:27.668551Z",
     "iopub.status.idle": "2023-01-09T16:20:27.680543Z",
     "shell.execute_reply": "2023-01-09T16:20:27.679198Z"
    },
    "papermill": {
     "duration": 0.029857,
     "end_time": "2023-01-09T16:20:27.683207",
     "exception": false,
     "start_time": "2023-01-09T16:20:27.653350",
     "status": "completed"
    },
    "scrolled": true,
    "tags": []
   },
   "outputs": [
    {
     "data": {
      "text/plain": [
       "age                     0\n",
       "gender                  0\n",
       "air_pollution           0\n",
       "alcohol_use             0\n",
       "dust_allergy            0\n",
       "genetic_risk            0\n",
       "chronic_lung_disease    0\n",
       "balanced_diet           0\n",
       "obesity                 0\n",
       "smoking                 0\n",
       "chest_pain              0\n",
       "coughing_of_blood       0\n",
       "weight_loss             0\n",
       "shortness_of_breath     0\n",
       "frequent_cold           0\n",
       "dry_cough               0\n",
       "level                   0\n",
       "dtype: int64"
      ]
     },
     "execution_count": 6,
     "metadata": {},
     "output_type": "execute_result"
    }
   ],
   "source": [
    "# Check For Null Values\n",
    "\n",
    "lung_cancer_dataset.isnull().sum()"
   ]
  },
  {
   "cell_type": "markdown",
   "id": "22cf1414",
   "metadata": {
    "papermill": {
     "duration": 0.013479,
     "end_time": "2023-01-09T16:20:27.710608",
     "exception": false,
     "start_time": "2023-01-09T16:20:27.697129",
     "status": "completed"
    },
    "tags": []
   },
   "source": [
    "# **Print Information**"
   ]
  },
  {
   "cell_type": "code",
   "execution_count": 7,
   "id": "c5f7b909",
   "metadata": {
    "execution": {
     "iopub.execute_input": "2023-01-09T16:20:27.740601Z",
     "iopub.status.busy": "2023-01-09T16:20:27.740116Z",
     "iopub.status.idle": "2023-01-09T16:20:27.760361Z",
     "shell.execute_reply": "2023-01-09T16:20:27.759242Z"
    },
    "papermill": {
     "duration": 0.038313,
     "end_time": "2023-01-09T16:20:27.762976",
     "exception": false,
     "start_time": "2023-01-09T16:20:27.724663",
     "status": "completed"
    },
    "scrolled": true,
    "tags": []
   },
   "outputs": [
    {
     "name": "stdout",
     "output_type": "stream",
     "text": [
      "<class 'pandas.core.frame.DataFrame'>\n",
      "Int64Index: 1000 entries, 0 to 999\n",
      "Data columns (total 17 columns):\n",
      " #   Column                Non-Null Count  Dtype \n",
      "---  ------                --------------  ----- \n",
      " 0   age                   1000 non-null   int64 \n",
      " 1   gender                1000 non-null   int64 \n",
      " 2   air_pollution         1000 non-null   int64 \n",
      " 3   alcohol_use           1000 non-null   int64 \n",
      " 4   dust_allergy          1000 non-null   int64 \n",
      " 5   genetic_risk          1000 non-null   int64 \n",
      " 6   chronic_lung_disease  1000 non-null   int64 \n",
      " 7   balanced_diet         1000 non-null   int64 \n",
      " 8   obesity               1000 non-null   int64 \n",
      " 9   smoking               1000 non-null   int64 \n",
      " 10  chest_pain            1000 non-null   int64 \n",
      " 11  coughing_of_blood     1000 non-null   int64 \n",
      " 12  weight_loss           1000 non-null   int64 \n",
      " 13  shortness_of_breath   1000 non-null   int64 \n",
      " 14  frequent_cold         1000 non-null   int64 \n",
      " 15  dry_cough             1000 non-null   int64 \n",
      " 16  level                 1000 non-null   object\n",
      "dtypes: int64(16), object(1)\n",
      "memory usage: 140.6+ KB\n",
      "None\n"
     ]
    }
   ],
   "source": [
    "# Print Information\n",
    "print(lung_cancer_dataset.info())\n"
   ]
  },
  {
   "cell_type": "markdown",
   "id": "2c134d17",
   "metadata": {
    "papermill": {
     "duration": 0.014524,
     "end_time": "2023-01-09T16:20:27.791881",
     "exception": false,
     "start_time": "2023-01-09T16:20:27.777357",
     "status": "completed"
    },
    "tags": []
   },
   "source": [
    "# **Replace \"level\" with Integer**"
   ]
  },
  {
   "cell_type": "code",
   "execution_count": 8,
   "id": "4f9e0340",
   "metadata": {
    "execution": {
     "iopub.execute_input": "2023-01-09T16:20:27.822936Z",
     "iopub.status.busy": "2023-01-09T16:20:27.822441Z",
     "iopub.status.idle": "2023-01-09T16:20:27.835196Z",
     "shell.execute_reply": "2023-01-09T16:20:27.833803Z"
    },
    "papermill": {
     "duration": 0.031534,
     "end_time": "2023-01-09T16:20:27.838133",
     "exception": false,
     "start_time": "2023-01-09T16:20:27.806599",
     "status": "completed"
    },
    "tags": []
   },
   "outputs": [
    {
     "name": "stdout",
     "output_type": "stream",
     "text": [
      "Cancer Levels:  ['Low' 'Medium' 'High']\n",
      "Cancer Levels:  [0 1 2]\n",
      "\n",
      "Columns in dataframe: \n",
      " Index(['age', 'gender', 'air_pollution', 'alcohol_use', 'dust_allergy',\n",
      "       'genetic_risk', 'chronic_lung_disease', 'balanced_diet', 'obesity',\n",
      "       'smoking', 'chest_pain', 'coughing_of_blood', 'weight_loss',\n",
      "       'shortness_of_breath', 'frequent_cold', 'dry_cough', 'level'],\n",
      "      dtype='object')\n"
     ]
    }
   ],
   "source": [
    "# Replace \"level\" with Integer\n",
    "\n",
    "print('Cancer Levels: ', lung_cancer_dataset['level'].unique())\n",
    "\n",
    "# Replacing levels with int\n",
    "lung_cancer_dataset[\"level\"].replace({'High': 2, 'Medium': 1, 'Low': 0}, inplace=True)\n",
    "print('Cancer Levels: ', lung_cancer_dataset['level'].unique())\n",
    "\n",
    "print('\\nColumns in dataframe: \\n', lung_cancer_dataset.columns)\n"
   ]
  },
  {
   "cell_type": "code",
   "execution_count": 9,
   "id": "222ad256",
   "metadata": {
    "scrolled": false
   },
   "outputs": [
    {
     "data": {
      "text/html": [
       "<div>\n",
       "<style scoped>\n",
       "    .dataframe tbody tr th:only-of-type {\n",
       "        vertical-align: middle;\n",
       "    }\n",
       "\n",
       "    .dataframe tbody tr th {\n",
       "        vertical-align: top;\n",
       "    }\n",
       "\n",
       "    .dataframe thead th {\n",
       "        text-align: right;\n",
       "    }\n",
       "</style>\n",
       "<table border=\"1\" class=\"dataframe\">\n",
       "  <thead>\n",
       "    <tr style=\"text-align: right;\">\n",
       "      <th></th>\n",
       "      <th>count</th>\n",
       "      <th>mean</th>\n",
       "      <th>std</th>\n",
       "      <th>min</th>\n",
       "      <th>25%</th>\n",
       "      <th>50%</th>\n",
       "      <th>75%</th>\n",
       "      <th>max</th>\n",
       "    </tr>\n",
       "  </thead>\n",
       "  <tbody>\n",
       "    <tr>\n",
       "      <th>age</th>\n",
       "      <td>1000.0</td>\n",
       "      <td>37.2</td>\n",
       "      <td>12.0</td>\n",
       "      <td>14.0</td>\n",
       "      <td>27.8</td>\n",
       "      <td>36.0</td>\n",
       "      <td>45.0</td>\n",
       "      <td>73.0</td>\n",
       "    </tr>\n",
       "    <tr>\n",
       "      <th>gender</th>\n",
       "      <td>1000.0</td>\n",
       "      <td>1.4</td>\n",
       "      <td>0.5</td>\n",
       "      <td>1.0</td>\n",
       "      <td>1.0</td>\n",
       "      <td>1.0</td>\n",
       "      <td>2.0</td>\n",
       "      <td>2.0</td>\n",
       "    </tr>\n",
       "    <tr>\n",
       "      <th>air_pollution</th>\n",
       "      <td>1000.0</td>\n",
       "      <td>3.8</td>\n",
       "      <td>2.0</td>\n",
       "      <td>1.0</td>\n",
       "      <td>2.0</td>\n",
       "      <td>3.0</td>\n",
       "      <td>6.0</td>\n",
       "      <td>8.0</td>\n",
       "    </tr>\n",
       "    <tr>\n",
       "      <th>alcohol_use</th>\n",
       "      <td>1000.0</td>\n",
       "      <td>4.6</td>\n",
       "      <td>2.6</td>\n",
       "      <td>1.0</td>\n",
       "      <td>2.0</td>\n",
       "      <td>5.0</td>\n",
       "      <td>7.0</td>\n",
       "      <td>8.0</td>\n",
       "    </tr>\n",
       "    <tr>\n",
       "      <th>dust_allergy</th>\n",
       "      <td>1000.0</td>\n",
       "      <td>5.2</td>\n",
       "      <td>2.0</td>\n",
       "      <td>1.0</td>\n",
       "      <td>4.0</td>\n",
       "      <td>6.0</td>\n",
       "      <td>7.0</td>\n",
       "      <td>8.0</td>\n",
       "    </tr>\n",
       "    <tr>\n",
       "      <th>genetic_risk</th>\n",
       "      <td>1000.0</td>\n",
       "      <td>4.6</td>\n",
       "      <td>2.1</td>\n",
       "      <td>1.0</td>\n",
       "      <td>2.0</td>\n",
       "      <td>5.0</td>\n",
       "      <td>7.0</td>\n",
       "      <td>7.0</td>\n",
       "    </tr>\n",
       "    <tr>\n",
       "      <th>chronic_lung_disease</th>\n",
       "      <td>1000.0</td>\n",
       "      <td>4.4</td>\n",
       "      <td>1.8</td>\n",
       "      <td>1.0</td>\n",
       "      <td>3.0</td>\n",
       "      <td>4.0</td>\n",
       "      <td>6.0</td>\n",
       "      <td>7.0</td>\n",
       "    </tr>\n",
       "    <tr>\n",
       "      <th>balanced_diet</th>\n",
       "      <td>1000.0</td>\n",
       "      <td>4.5</td>\n",
       "      <td>2.1</td>\n",
       "      <td>1.0</td>\n",
       "      <td>2.0</td>\n",
       "      <td>4.0</td>\n",
       "      <td>7.0</td>\n",
       "      <td>7.0</td>\n",
       "    </tr>\n",
       "    <tr>\n",
       "      <th>obesity</th>\n",
       "      <td>1000.0</td>\n",
       "      <td>4.5</td>\n",
       "      <td>2.1</td>\n",
       "      <td>1.0</td>\n",
       "      <td>3.0</td>\n",
       "      <td>4.0</td>\n",
       "      <td>7.0</td>\n",
       "      <td>7.0</td>\n",
       "    </tr>\n",
       "    <tr>\n",
       "      <th>smoking</th>\n",
       "      <td>1000.0</td>\n",
       "      <td>3.9</td>\n",
       "      <td>2.5</td>\n",
       "      <td>1.0</td>\n",
       "      <td>2.0</td>\n",
       "      <td>3.0</td>\n",
       "      <td>7.0</td>\n",
       "      <td>8.0</td>\n",
       "    </tr>\n",
       "    <tr>\n",
       "      <th>chest_pain</th>\n",
       "      <td>1000.0</td>\n",
       "      <td>4.4</td>\n",
       "      <td>2.3</td>\n",
       "      <td>1.0</td>\n",
       "      <td>2.0</td>\n",
       "      <td>4.0</td>\n",
       "      <td>7.0</td>\n",
       "      <td>9.0</td>\n",
       "    </tr>\n",
       "    <tr>\n",
       "      <th>coughing_of_blood</th>\n",
       "      <td>1000.0</td>\n",
       "      <td>4.9</td>\n",
       "      <td>2.4</td>\n",
       "      <td>1.0</td>\n",
       "      <td>3.0</td>\n",
       "      <td>4.0</td>\n",
       "      <td>7.0</td>\n",
       "      <td>9.0</td>\n",
       "    </tr>\n",
       "    <tr>\n",
       "      <th>weight_loss</th>\n",
       "      <td>1000.0</td>\n",
       "      <td>3.9</td>\n",
       "      <td>2.2</td>\n",
       "      <td>1.0</td>\n",
       "      <td>2.0</td>\n",
       "      <td>3.0</td>\n",
       "      <td>6.0</td>\n",
       "      <td>8.0</td>\n",
       "    </tr>\n",
       "    <tr>\n",
       "      <th>shortness_of_breath</th>\n",
       "      <td>1000.0</td>\n",
       "      <td>4.2</td>\n",
       "      <td>2.3</td>\n",
       "      <td>1.0</td>\n",
       "      <td>2.0</td>\n",
       "      <td>4.0</td>\n",
       "      <td>6.0</td>\n",
       "      <td>9.0</td>\n",
       "    </tr>\n",
       "    <tr>\n",
       "      <th>frequent_cold</th>\n",
       "      <td>1000.0</td>\n",
       "      <td>3.5</td>\n",
       "      <td>1.8</td>\n",
       "      <td>1.0</td>\n",
       "      <td>2.0</td>\n",
       "      <td>3.0</td>\n",
       "      <td>5.0</td>\n",
       "      <td>7.0</td>\n",
       "    </tr>\n",
       "    <tr>\n",
       "      <th>dry_cough</th>\n",
       "      <td>1000.0</td>\n",
       "      <td>3.9</td>\n",
       "      <td>2.0</td>\n",
       "      <td>1.0</td>\n",
       "      <td>2.0</td>\n",
       "      <td>4.0</td>\n",
       "      <td>6.0</td>\n",
       "      <td>7.0</td>\n",
       "    </tr>\n",
       "    <tr>\n",
       "      <th>level</th>\n",
       "      <td>1000.0</td>\n",
       "      <td>1.1</td>\n",
       "      <td>0.8</td>\n",
       "      <td>0.0</td>\n",
       "      <td>0.0</td>\n",
       "      <td>1.0</td>\n",
       "      <td>2.0</td>\n",
       "      <td>2.0</td>\n",
       "    </tr>\n",
       "  </tbody>\n",
       "</table>\n",
       "</div>"
      ],
      "text/plain": [
       "                       count  mean   std   min   25%   50%   75%   max\n",
       "age                   1000.0  37.2  12.0  14.0  27.8  36.0  45.0  73.0\n",
       "gender                1000.0   1.4   0.5   1.0   1.0   1.0   2.0   2.0\n",
       "air_pollution         1000.0   3.8   2.0   1.0   2.0   3.0   6.0   8.0\n",
       "alcohol_use           1000.0   4.6   2.6   1.0   2.0   5.0   7.0   8.0\n",
       "dust_allergy          1000.0   5.2   2.0   1.0   4.0   6.0   7.0   8.0\n",
       "genetic_risk          1000.0   4.6   2.1   1.0   2.0   5.0   7.0   7.0\n",
       "chronic_lung_disease  1000.0   4.4   1.8   1.0   3.0   4.0   6.0   7.0\n",
       "balanced_diet         1000.0   4.5   2.1   1.0   2.0   4.0   7.0   7.0\n",
       "obesity               1000.0   4.5   2.1   1.0   3.0   4.0   7.0   7.0\n",
       "smoking               1000.0   3.9   2.5   1.0   2.0   3.0   7.0   8.0\n",
       "chest_pain            1000.0   4.4   2.3   1.0   2.0   4.0   7.0   9.0\n",
       "coughing_of_blood     1000.0   4.9   2.4   1.0   3.0   4.0   7.0   9.0\n",
       "weight_loss           1000.0   3.9   2.2   1.0   2.0   3.0   6.0   8.0\n",
       "shortness_of_breath   1000.0   4.2   2.3   1.0   2.0   4.0   6.0   9.0\n",
       "frequent_cold         1000.0   3.5   1.8   1.0   2.0   3.0   5.0   7.0\n",
       "dry_cough             1000.0   3.9   2.0   1.0   2.0   4.0   6.0   7.0\n",
       "level                 1000.0   1.1   0.8   0.0   0.0   1.0   2.0   2.0"
      ]
     },
     "execution_count": 9,
     "metadata": {},
     "output_type": "execute_result"
    }
   ],
   "source": [
    "round(lung_cancer_dataset.describe().T,1)"
   ]
  },
  {
   "cell_type": "markdown",
   "id": "ce49d08c",
   "metadata": {
    "papermill": {
     "duration": 0.014334,
     "end_time": "2023-01-09T16:20:27.993731",
     "exception": false,
     "start_time": "2023-01-09T16:20:27.979397",
     "status": "completed"
    },
    "tags": []
   },
   "source": [
    "# **Print and Visualize Columns**"
   ]
  },
  {
   "cell_type": "code",
   "execution_count": 10,
   "id": "88695963",
   "metadata": {
    "execution": {
     "iopub.execute_input": "2023-01-09T16:20:28.025405Z",
     "iopub.status.busy": "2023-01-09T16:20:28.024917Z",
     "iopub.status.idle": "2023-01-09T16:20:28.033905Z",
     "shell.execute_reply": "2023-01-09T16:20:28.032511Z"
    },
    "papermill": {
     "duration": 0.028093,
     "end_time": "2023-01-09T16:20:28.036488",
     "exception": false,
     "start_time": "2023-01-09T16:20:28.008395",
     "status": "completed"
    },
    "tags": []
   },
   "outputs": [
    {
     "name": "stdout",
     "output_type": "stream",
     "text": [
      "\n",
      "\n"
     ]
    },
    {
     "data": {
      "text/plain": [
       "Index(['age', 'gender', 'air_pollution', 'alcohol_use', 'dust_allergy',\n",
       "       'genetic_risk', 'chronic_lung_disease', 'balanced_diet', 'obesity',\n",
       "       'smoking', 'chest_pain', 'coughing_of_blood', 'weight_loss',\n",
       "       'shortness_of_breath', 'frequent_cold', 'dry_cough', 'level'],\n",
       "      dtype='object')"
      ]
     },
     "execution_count": 10,
     "metadata": {},
     "output_type": "execute_result"
    }
   ],
   "source": [
    "# Print and Visualize Columns\n",
    "\n",
    "print('\\n')\n",
    "lung_cancer_dataset.columns"
   ]
  },
  {
   "cell_type": "code",
   "execution_count": 11,
   "id": "fba0a772",
   "metadata": {},
   "outputs": [
    {
     "name": "stderr",
     "output_type": "stream",
     "text": [
      "C:\\Users\\vijay\\anaconda3\\anconda\\lib\\site-packages\\seaborn\\_decorators.py:36: FutureWarning: Pass the following variable as a keyword arg: x. From version 0.12, the only valid positional argument will be `data`, and passing other arguments without an explicit keyword will result in an error or misinterpretation.\n",
      "  warnings.warn(\n"
     ]
    },
    {
     "data": {
      "text/plain": [
       "<AxesSubplot:xlabel='age'>"
      ]
     },
     "execution_count": 11,
     "metadata": {},
     "output_type": "execute_result"
    },
    {
     "data": {
      "image/png": "[encoded data removed]",
      "text/plain": [
       "<Figure size 432x288 with 1 Axes>"
      ]
     },
     "metadata": {
      "needs_background": "light"
     },
     "output_type": "display_data"
    }
   ],
   "source": [
    "#boxplot\n",
    "sns.boxplot(lung_cancer_dataset['age'])"
   ]
  },
  {
   "cell_type": "code",
   "execution_count": 12,
   "id": "c17df43e",
   "metadata": {
    "scrolled": false
   },
   "outputs": [
    {
     "data": {
      "text/plain": [
       "<AxesSubplot:xlabel='smoking', ylabel='count'>"
      ]
     },
     "execution_count": 12,
     "metadata": {},
     "output_type": "execute_result"
    },
    {
     "data": {
      "image/png": "[encoded data removed]",
      "text/plain": [
       "<Figure size 432x288 with 1 Axes>"
      ]
     },
     "metadata": {
      "needs_background": "light"
     },
     "output_type": "display_data"
    }
   ],
   "source": [
    "#countplot\n",
    "sns.countplot(x=\"smoking\",data=lung_cancer_dataset)"
   ]
  },
  {
   "cell_type": "code",
   "execution_count": 13,
   "id": "f23b3b34",
   "metadata": {},
   "outputs": [
    {
     "data": {
      "text/plain": [
       "<AxesSubplot:xlabel='chest_pain'>"
      ]
     },
     "execution_count": 13,
     "metadata": {},
     "output_type": "execute_result"
    },
    {
     "data": {
      "image/png": "[encoded data removed]",
      "text/plain": [
       "<Figure size 432x288 with 1 Axes>"
      ]
     },
     "metadata": {
      "needs_background": "light"
     },
     "output_type": "display_data"
    }
   ],
   "source": [
    "#violin plot\n",
    "sns.violinplot(x=\"chest_pain\",data=lung_cancer_dataset,kde='True')"
   ]
  },
  {
   "cell_type": "code",
   "execution_count": 14,
   "id": "d3eabc1c",
   "metadata": {},
   "outputs": [
    {
     "data": {
      "image/png": "[encoded data removed]",
      "text/plain": [
       "<Figure size 432x288 with 1 Axes>"
      ]
     },
     "metadata": {
      "needs_background": "light"
     },
     "output_type": "display_data"
    }
   ],
   "source": [
    "#hist plot\n",
    "sns.histplot(x = lung_cancer_dataset['dust_allergy'],data=lung_cancer_dataset,kde=True)\n",
    "plt.show()"
   ]
  },
  {
   "cell_type": "code",
   "execution_count": 15,
   "id": "aa00d96e",
   "metadata": {},
   "outputs": [
    {
     "data": {
      "text/plain": [
       "<AxesSubplot:xlabel='gender', ylabel='count'>"
      ]
     },
     "execution_count": 15,
     "metadata": {},
     "output_type": "execute_result"
    },
    {
     "data": {
      "image/png": "[encoded data removed]",
      "text/plain": [
       "<Figure size 432x288 with 1 Axes>"
      ]
     },
     "metadata": {
      "needs_background": "light"
     },
     "output_type": "display_data"
    }
   ],
   "source": [
    "sns.countplot(data=lung_cancer_dataset,x = lung_cancer_dataset['gender'])"
   ]
  },
  {
   "cell_type": "code",
   "execution_count": 16,
   "id": "17e201e4",
   "metadata": {
    "execution": {
     "iopub.execute_input": "2023-01-09T16:20:31.147122Z",
     "iopub.status.busy": "2023-01-09T16:20:31.146288Z",
     "iopub.status.idle": "2023-01-09T16:20:31.325449Z",
     "shell.execute_reply": "2023-01-09T16:20:31.324016Z"
    },
    "papermill": {
     "duration": 0.202486,
     "end_time": "2023-01-09T16:20:31.328876",
     "exception": false,
     "start_time": "2023-01-09T16:20:31.126390",
     "status": "completed"
    },
    "scrolled": true,
    "tags": []
   },
   "outputs": [
    {
     "data": {
      "image/png": "[encoded data removed]",
      "text/plain": [
       "<Figure size 432x432 with 1 Axes>"
      ]
     },
     "metadata": {},
     "output_type": "display_data"
    }
   ],
   "source": [
    "# Pie Chart\n",
    "\n",
    "lung_cancer_dataset['level'].value_counts().plot(kind='pie', figsize=(6, 6), autopct='%1.1f%%')\n",
    "plt.show()"
   ]
  },
  {
   "cell_type": "code",
   "execution_count": 17,
   "id": "eb5f514e",
   "metadata": {
    "execution": {
     "iopub.execute_input": "2023-01-09T16:20:31.378286Z",
     "iopub.status.busy": "2023-01-09T16:20:31.377127Z",
     "iopub.status.idle": "2023-01-09T16:20:31.855273Z",
     "shell.execute_reply": "2023-01-09T16:20:31.853692Z"
    },
    "papermill": {
     "duration": 0.502404,
     "end_time": "2023-01-09T16:20:31.858127",
     "exception": false,
     "start_time": "2023-01-09T16:20:31.355723",
     "status": "completed"
    },
    "scrolled": false,
    "tags": []
   },
   "outputs": [
    {
     "name": "stdout",
     "output_type": "stream",
     "text": [
      "Smoking VS Cancer Level\n"
     ]
    },
    {
     "data": {
      "image/png": "[encoded data removed]",
      "text/plain": [
       "<Figure size 432x288 with 1 Axes>"
      ]
     },
     "metadata": {
      "needs_background": "light"
     },
     "output_type": "display_data"
    },
    {
     "name": "stdout",
     "output_type": "stream",
     "text": [
      "Air Polution VS Cancer Level\n"
     ]
    },
    {
     "data": {
      "image/png": "[encoded data removed]",
      "text/plain": [
       "<Figure size 432x288 with 1 Axes>"
      ]
     },
     "metadata": {
      "needs_background": "light"
     },
     "output_type": "display_data"
    }
   ],
   "source": [
    "# Scatter Plot\n",
    "\n",
    "print('Smoking VS Cancer Level')\n",
    "plt.scatter(lung_cancer_dataset['smoking'], lung_cancer_dataset['level'])\n",
    "plt.show()\n",
    "\n",
    "print('Air Polution VS Cancer Level')\n",
    "plt.scatter(lung_cancer_dataset['air_pollution'], lung_cancer_dataset['level'])\n",
    "plt.show()\n"
   ]
  },
  {
   "cell_type": "code",
   "execution_count": 18,
   "id": "288e980e",
   "metadata": {},
   "outputs": [
    {
     "data": {
      "text/plain": [
       "<AxesSubplot:xlabel='age', ylabel='smoking'>"
      ]
     },
     "execution_count": 18,
     "metadata": {},
     "output_type": "execute_result"
    },
    {
     "data": {
      "image/png": "[encoded data removed]",
      "text/plain": [
       "<Figure size 432x288 with 1 Axes>"
      ]
     },
     "metadata": {
      "needs_background": "light"
     },
     "output_type": "display_data"
    }
   ],
   "source": [
    "sns.scatterplot(data=lung_cancer_dataset,\n",
    "          x='age',\n",
    "           y='smoking',\n",
    "           hue='level')"
   ]
  },
  {
   "cell_type": "code",
   "execution_count": 19,
   "id": "483441fd",
   "metadata": {
    "execution": {
     "iopub.execute_input": "2023-01-09T16:20:33.068656Z",
     "iopub.status.busy": "2023-01-09T16:20:33.068202Z",
     "iopub.status.idle": "2023-01-09T16:20:36.390816Z",
     "shell.execute_reply": "2023-01-09T16:20:36.389767Z"
    },
    "papermill": {
     "duration": 3.35955,
     "end_time": "2023-01-09T16:20:36.405298",
     "exception": false,
     "start_time": "2023-01-09T16:20:33.045748",
     "status": "completed"
    },
    "scrolled": false,
    "tags": []
   },
   "outputs": [
    {
     "data": {
      "image/png": "[encoded data removed]",
      "text/plain": [
       "<Figure size 1080x864 with 2 Axes>"
      ]
     },
     "metadata": {
      "needs_background": "light"
     },
     "output_type": "display_data"
    }
   ],
   "source": [
    "# Heatmap\n",
    "\n",
    "plt.figure(figsize=(15,12))\n",
    "sns.heatmap(lung_cancer_dataset.corr(), annot=True, cmap=plt.cm.PuBu,vmin=-1,vmax=1)\n",
    "plt.show()\n"
   ]
  },
  {
   "cell_type": "markdown",
   "id": "5355a90b",
   "metadata": {
    "papermill": {
     "duration": 0.032631,
     "end_time": "2023-01-09T16:20:36.471030",
     "exception": false,
     "start_time": "2023-01-09T16:20:36.438399",
     "status": "completed"
    },
    "tags": []
   },
   "source": [
    "# **Setting Target**"
   ]
  },
  {
   "cell_type": "code",
   "execution_count": 20,
   "id": "6309f6da",
   "metadata": {
    "execution": {
     "iopub.execute_input": "2023-01-09T16:20:36.539653Z",
     "iopub.status.busy": "2023-01-09T16:20:36.538845Z",
     "iopub.status.idle": "2023-01-09T16:20:36.565630Z",
     "shell.execute_reply": "2023-01-09T16:20:36.564710Z"
    },
    "papermill": {
     "duration": 0.063677,
     "end_time": "2023-01-09T16:20:36.568026",
     "exception": false,
     "start_time": "2023-01-09T16:20:36.504349",
     "status": "completed"
    },
    "scrolled": false,
    "tags": []
   },
   "outputs": [
    {
     "data": {
      "text/html": [
       "<div>\n",
       "<style scoped>\n",
       "    .dataframe tbody tr th:only-of-type {\n",
       "        vertical-align: middle;\n",
       "    }\n",
       "\n",
       "    .dataframe tbody tr th {\n",
       "        vertical-align: top;\n",
       "    }\n",
       "\n",
       "    .dataframe thead th {\n",
       "        text-align: right;\n",
       "    }\n",
       "</style>\n",
       "<table border=\"1\" class=\"dataframe\">\n",
       "  <thead>\n",
       "    <tr style=\"text-align: right;\">\n",
       "      <th></th>\n",
       "      <th>age</th>\n",
       "      <th>gender</th>\n",
       "      <th>air_pollution</th>\n",
       "      <th>alcohol_use</th>\n",
       "      <th>dust_allergy</th>\n",
       "      <th>genetic_risk</th>\n",
       "      <th>chronic_lung_disease</th>\n",
       "      <th>balanced_diet</th>\n",
       "      <th>obesity</th>\n",
       "      <th>smoking</th>\n",
       "      <th>chest_pain</th>\n",
       "      <th>coughing_of_blood</th>\n",
       "      <th>weight_loss</th>\n",
       "      <th>shortness_of_breath</th>\n",
       "      <th>frequent_cold</th>\n",
       "      <th>dry_cough</th>\n",
       "    </tr>\n",
       "    <tr>\n",
       "      <th>index</th>\n",
       "      <th></th>\n",
       "      <th></th>\n",
       "      <th></th>\n",
       "      <th></th>\n",
       "      <th></th>\n",
       "      <th></th>\n",
       "      <th></th>\n",
       "      <th></th>\n",
       "      <th></th>\n",
       "      <th></th>\n",
       "      <th></th>\n",
       "      <th></th>\n",
       "      <th></th>\n",
       "      <th></th>\n",
       "      <th></th>\n",
       "      <th></th>\n",
       "    </tr>\n",
       "  </thead>\n",
       "  <tbody>\n",
       "    <tr>\n",
       "      <th>0</th>\n",
       "      <td>33</td>\n",
       "      <td>1</td>\n",
       "      <td>2</td>\n",
       "      <td>4</td>\n",
       "      <td>5</td>\n",
       "      <td>3</td>\n",
       "      <td>2</td>\n",
       "      <td>2</td>\n",
       "      <td>4</td>\n",
       "      <td>3</td>\n",
       "      <td>2</td>\n",
       "      <td>4</td>\n",
       "      <td>4</td>\n",
       "      <td>2</td>\n",
       "      <td>2</td>\n",
       "      <td>3</td>\n",
       "    </tr>\n",
       "    <tr>\n",
       "      <th>1</th>\n",
       "      <td>17</td>\n",
       "      <td>1</td>\n",
       "      <td>3</td>\n",
       "      <td>1</td>\n",
       "      <td>5</td>\n",
       "      <td>4</td>\n",
       "      <td>2</td>\n",
       "      <td>2</td>\n",
       "      <td>2</td>\n",
       "      <td>2</td>\n",
       "      <td>2</td>\n",
       "      <td>3</td>\n",
       "      <td>3</td>\n",
       "      <td>7</td>\n",
       "      <td>1</td>\n",
       "      <td>7</td>\n",
       "    </tr>\n",
       "    <tr>\n",
       "      <th>2</th>\n",
       "      <td>35</td>\n",
       "      <td>1</td>\n",
       "      <td>4</td>\n",
       "      <td>5</td>\n",
       "      <td>6</td>\n",
       "      <td>5</td>\n",
       "      <td>4</td>\n",
       "      <td>6</td>\n",
       "      <td>7</td>\n",
       "      <td>2</td>\n",
       "      <td>4</td>\n",
       "      <td>8</td>\n",
       "      <td>7</td>\n",
       "      <td>9</td>\n",
       "      <td>6</td>\n",
       "      <td>7</td>\n",
       "    </tr>\n",
       "    <tr>\n",
       "      <th>3</th>\n",
       "      <td>37</td>\n",
       "      <td>1</td>\n",
       "      <td>7</td>\n",
       "      <td>7</td>\n",
       "      <td>7</td>\n",
       "      <td>6</td>\n",
       "      <td>7</td>\n",
       "      <td>7</td>\n",
       "      <td>7</td>\n",
       "      <td>7</td>\n",
       "      <td>7</td>\n",
       "      <td>8</td>\n",
       "      <td>2</td>\n",
       "      <td>3</td>\n",
       "      <td>6</td>\n",
       "      <td>7</td>\n",
       "    </tr>\n",
       "    <tr>\n",
       "      <th>4</th>\n",
       "      <td>46</td>\n",
       "      <td>1</td>\n",
       "      <td>6</td>\n",
       "      <td>8</td>\n",
       "      <td>7</td>\n",
       "      <td>7</td>\n",
       "      <td>6</td>\n",
       "      <td>7</td>\n",
       "      <td>7</td>\n",
       "      <td>8</td>\n",
       "      <td>7</td>\n",
       "      <td>9</td>\n",
       "      <td>2</td>\n",
       "      <td>4</td>\n",
       "      <td>4</td>\n",
       "      <td>2</td>\n",
       "    </tr>\n",
       "  </tbody>\n",
       "</table>\n",
       "</div>"
      ],
      "text/plain": [
       "       age  gender  air_pollution  alcohol_use  dust_allergy  genetic_risk  \\\n",
       "index                                                                        \n",
       "0       33       1              2            4             5             3   \n",
       "1       17       1              3            1             5             4   \n",
       "2       35       1              4            5             6             5   \n",
       "3       37       1              7            7             7             6   \n",
       "4       46       1              6            8             7             7   \n",
       "\n",
       "       chronic_lung_disease  balanced_diet  obesity  smoking  chest_pain  \\\n",
       "index                                                                      \n",
       "0                         2              2        4        3           2   \n",
       "1                         2              2        2        2           2   \n",
       "2                         4              6        7        2           4   \n",
       "3                         7              7        7        7           7   \n",
       "4                         6              7        7        8           7   \n",
       "\n",
       "       coughing_of_blood  weight_loss  shortness_of_breath  frequent_cold  \\\n",
       "index                                                                       \n",
       "0                      4            4                    2              2   \n",
       "1                      3            3                    7              1   \n",
       "2                      8            7                    9              6   \n",
       "3                      8            2                    3              6   \n",
       "4                      9            2                    4              4   \n",
       "\n",
       "       dry_cough  \n",
       "index             \n",
       "0              3  \n",
       "1              7  \n",
       "2              7  \n",
       "3              7  \n",
       "4              2  "
      ]
     },
     "metadata": {},
     "output_type": "display_data"
    },
    {
     "data": {
      "text/plain": [
       "index\n",
       "0    0\n",
       "1    1\n",
       "2    2\n",
       "3    2\n",
       "4    2\n",
       "5    2\n",
       "6    0\n",
       "7    0\n",
       "8    1\n",
       "9    1\n",
       "Name: level, dtype: int64"
      ]
     },
     "metadata": {},
     "output_type": "display_data"
    }
   ],
   "source": [
    "# Setting Target\n",
    "\n",
    "X = lung_cancer_dataset.drop(columns='level')\n",
    "y = lung_cancer_dataset.level\n",
    "\n",
    "display(X.head(), y[:10])\n"
   ]
  },
  {
   "cell_type": "code",
   "execution_count": 21,
   "id": "63783230",
   "metadata": {
    "execution": {
     "iopub.execute_input": "2023-01-09T16:20:36.636424Z",
     "iopub.status.busy": "2023-01-09T16:20:36.635925Z",
     "iopub.status.idle": "2023-01-09T16:20:36.644751Z",
     "shell.execute_reply": "2023-01-09T16:20:36.643186Z"
    },
    "papermill": {
     "duration": 0.046141,
     "end_time": "2023-01-09T16:20:36.647183",
     "exception": false,
     "start_time": "2023-01-09T16:20:36.601042",
     "status": "completed"
    },
    "tags": []
   },
   "outputs": [
    {
     "data": {
      "text/plain": [
       "Index(['age', 'gender', 'air_pollution', 'alcohol_use', 'dust_allergy',\n",
       "       'genetic_risk', 'chronic_lung_disease', 'balanced_diet', 'obesity',\n",
       "       'smoking', 'chest_pain', 'coughing_of_blood', 'weight_loss',\n",
       "       'shortness_of_breath', 'frequent_cold', 'dry_cough', 'level'],\n",
       "      dtype='object')"
      ]
     },
     "execution_count": 21,
     "metadata": {},
     "output_type": "execute_result"
    }
   ],
   "source": [
    "lung_cancer_dataset.columns"
   ]
  },
  {
   "cell_type": "markdown",
   "id": "c22c8ada",
   "metadata": {
    "papermill": {
     "duration": 0.033092,
     "end_time": "2023-01-09T16:20:36.713549",
     "exception": false,
     "start_time": "2023-01-09T16:20:36.680457",
     "status": "completed"
    },
    "tags": []
   },
   "source": [
    "# **Train Test Split**"
   ]
  },
  {
   "cell_type": "code",
   "execution_count": 22,
   "id": "12110783",
   "metadata": {},
   "outputs": [
    {
     "name": "stdout",
     "output_type": "stream",
     "text": [
      "\n",
      "Train Shape\n",
      "\n",
      "X train shape:  (800, 16)\n",
      "Y train shape:  (800,)\n",
      "\n",
      "\n",
      "Test Shape\n",
      "\n",
      "X test shape:  (200, 16)\n",
      "Y test shape:  (200,)\n"
     ]
    }
   ],
   "source": [
    "X_train, X_test, y_train, y_test = train_test_split(X, y, test_size=0.2)\n",
    "print('\\nTrain Shape\\n')\n",
    "print('X train shape: ', X_train.shape)\n",
    "print('Y train shape: ', y_train.shape)\n",
    "print('\\n\\nTest Shape\\n')\n",
    "print('X test shape: ', X_test.shape)\n",
    "print('Y test shape: ', y_test.shape)\n"
   ]
  },
  {
   "cell_type": "markdown",
   "id": "1a7b9c26",
   "metadata": {
    "papermill": {
     "duration": 0.033221,
     "end_time": "2023-01-09T16:20:36.869253",
     "exception": false,
     "start_time": "2023-01-09T16:20:36.836032",
     "status": "completed"
    },
    "tags": []
   },
   "source": [
    "# **Scaling the Data**"
   ]
  },
  {
   "cell_type": "code",
   "execution_count": 23,
   "id": "7f87c8ce",
   "metadata": {
    "execution": {
     "iopub.execute_input": "2023-01-09T16:20:36.938046Z",
     "iopub.status.busy": "2023-01-09T16:20:36.937515Z",
     "iopub.status.idle": "2023-01-09T16:20:36.951409Z",
     "shell.execute_reply": "2023-01-09T16:20:36.950091Z"
    },
    "papermill": {
     "duration": 0.051719,
     "end_time": "2023-01-09T16:20:36.954281",
     "exception": false,
     "start_time": "2023-01-09T16:20:36.902562",
     "status": "completed"
    },
    "tags": []
   },
   "outputs": [],
   "source": [
    "# Data Scaling\n",
    "\n",
    "scaler=StandardScaler()\n",
    "X_train_scaled=scaler.fit_transform(X_train)\n",
    "X_test_scaled=scaler.transform(X_test)"
   ]
  },
  {
   "cell_type": "code",
   "execution_count": 46,
   "id": "14255c79",
   "metadata": {},
   "outputs": [
    {
     "data": {
      "text/plain": [
       "array([[-0.4281143 , -0.81862454, -0.90901947, ..., -0.5164024 ,\n",
       "        -0.84476111,  0.56867466],\n",
       "       [ 0.74854342, -0.81862454,  1.06979842, ..., -0.07597391,\n",
       "         0.24789675, -0.91321371],\n",
       "       [ 0.16021456, -0.81862454,  0.08038948, ..., -0.95683088,\n",
       "         1.88688356,  0.56867466],\n",
       "       ...,\n",
       "       [-0.17597336, -0.81862454, -0.90901947, ...,  0.36445457,\n",
       "        -1.39109005, -0.91321371],\n",
       "       [-1.68881901, -0.81862454, -0.414315  , ...,  1.24531154,\n",
       "        -1.39109005,  1.55660025],\n",
       "       [ 0.07616758,  1.22156123, -0.414315  , ..., -0.5164024 ,\n",
       "         0.79422569, -1.4071765 ]])"
      ]
     },
     "execution_count": 46,
     "metadata": {},
     "output_type": "execute_result"
    }
   ],
   "source": [
    "X_test_scaled"
   ]
  },
  {
   "cell_type": "markdown",
   "id": "9df72946",
   "metadata": {
    "papermill": {
     "duration": 0.034152,
     "end_time": "2023-01-09T16:20:37.024449",
     "exception": false,
     "start_time": "2023-01-09T16:20:36.990297",
     "status": "completed"
    },
    "tags": []
   },
   "source": [
    "# **Logistic Regression**"
   ]
  },
  {
   "cell_type": "code",
   "execution_count": 24,
   "id": "69247aa7",
   "metadata": {
    "execution": {
     "iopub.execute_input": "2023-01-09T16:20:37.096238Z",
     "iopub.status.busy": "2023-01-09T16:20:37.095279Z",
     "iopub.status.idle": "2023-01-09T16:20:37.139809Z",
     "shell.execute_reply": "2023-01-09T16:20:37.138561Z"
    },
    "papermill": {
     "duration": 0.083417,
     "end_time": "2023-01-09T16:20:37.143465",
     "exception": false,
     "start_time": "2023-01-09T16:20:37.060048",
     "status": "completed"
    },
    "tags": []
   },
   "outputs": [
    {
     "name": "stderr",
     "output_type": "stream",
     "text": [
      "C:\\Users\\vijay\\anaconda3\\anconda\\lib\\site-packages\\sklearn\\linear_model\\_logistic.py:814: ConvergenceWarning: lbfgs failed to converge (status=1):\n",
      "STOP: TOTAL NO. of ITERATIONS REACHED LIMIT.\n",
      "\n",
      "Increase the number of iterations (max_iter) or scale the data as shown in:\n",
      "    https://scikit-learn.org/stable/modules/preprocessing.html\n",
      "Please also refer to the documentation for alternative solver options:\n",
      "    https://scikit-learn.org/stable/modules/linear_model.html#logistic-regression\n",
      "  n_iter_i = _check_optimize_result(\n"
     ]
    }
   ],
   "source": [
    "# Logistic Regression\n",
    "\n",
    "LogisticRegression = LogisticRegression(C=24)\n",
    "\n",
    "LogisticRegression.fit(X_train_scaled, y_train)\n",
    "\n",
    "y_predict1 = LogisticRegression.predict(X_test_scaled)"
   ]
  },
  {
   "cell_type": "markdown",
   "id": "bbcdc139",
   "metadata": {
    "papermill": {
     "duration": 0.032989,
     "end_time": "2023-01-09T16:20:37.209866",
     "exception": false,
     "start_time": "2023-01-09T16:20:37.176877",
     "status": "completed"
    },
    "tags": []
   },
   "source": [
    "**Confusion Matrix**"
   ]
  },
  {
   "cell_type": "code",
   "execution_count": 25,
   "id": "13785687",
   "metadata": {
    "execution": {
     "iopub.execute_input": "2023-01-09T16:20:37.278585Z",
     "iopub.status.busy": "2023-01-09T16:20:37.278064Z",
     "iopub.status.idle": "2023-01-09T16:20:37.600910Z",
     "shell.execute_reply": "2023-01-09T16:20:37.599565Z"
    },
    "papermill": {
     "duration": 0.360441,
     "end_time": "2023-01-09T16:20:37.603623",
     "exception": false,
     "start_time": "2023-01-09T16:20:37.243182",
     "status": "completed"
    },
    "scrolled": true,
    "tags": []
   },
   "outputs": [
    {
     "data": {
      "image/png": "[encoded data removed]",
      "text/plain": [
       "<Figure size 360x360 with 2 Axes>"
      ]
     },
     "metadata": {
      "needs_background": "light"
     },
     "output_type": "display_data"
    }
   ],
   "source": [
    "# Confusion Matrix\n",
    "\n",
    "LogisticRegression_cm = confusion_matrix(y_test, y_predict1)\n",
    "f, ax = plt.subplots(figsize=(5,5))\n",
    "sns.heatmap(LogisticRegression_cm, annot=True, linewidth=0.7, linecolor='cyan', fmt='g', ax=ax, cmap=\"YlGnBu\")\n",
    "plt.title('Logistic Regression Classification Confusion Matrix\\n')\n",
    "plt.xlabel('y predict')\n",
    "plt.ylabel('y test')\n",
    "plt.show()\n"
   ]
  },
  {
   "cell_type": "markdown",
   "id": "a8042274",
   "metadata": {
    "papermill": {
     "duration": 0.033865,
     "end_time": "2023-01-09T16:20:37.671443",
     "exception": false,
     "start_time": "2023-01-09T16:20:37.637578",
     "status": "completed"
    },
    "tags": []
   },
   "source": [
    "**Test Score**"
   ]
  },
  {
   "cell_type": "code",
   "execution_count": 26,
   "id": "cd41a7aa",
   "metadata": {
    "execution": {
     "iopub.execute_input": "2023-01-09T16:20:37.741946Z",
     "iopub.status.busy": "2023-01-09T16:20:37.741497Z",
     "iopub.status.idle": "2023-01-09T16:20:37.749244Z",
     "shell.execute_reply": "2023-01-09T16:20:37.747500Z"
    },
    "papermill": {
     "duration": 0.04614,
     "end_time": "2023-01-09T16:20:37.751743",
     "exception": false,
     "start_time": "2023-01-09T16:20:37.705603",
     "status": "completed"
    },
    "scrolled": true,
    "tags": []
   },
   "outputs": [
    {
     "name": "stdout",
     "output_type": "stream",
     "text": [
      "Logistic Regression Score =  0.98\n"
     ]
    }
   ],
   "source": [
    "# Test Score\n",
    "\n",
    "score_LogisticRegression = LogisticRegression.score(X_test_scaled, y_test)\n",
    "print('Logistic Regression Score = ',score_LogisticRegression)\n"
   ]
  },
  {
   "cell_type": "code",
   "execution_count": 27,
   "id": "7f2367f2",
   "metadata": {
    "execution": {
     "iopub.execute_input": "2023-01-09T16:20:37.823218Z",
     "iopub.status.busy": "2023-01-09T16:20:37.821587Z",
     "iopub.status.idle": "2023-01-09T16:20:37.833327Z",
     "shell.execute_reply": "2023-01-09T16:20:37.831737Z"
    },
    "papermill": {
     "duration": 0.049956,
     "end_time": "2023-01-09T16:20:37.835761",
     "exception": false,
     "start_time": "2023-01-09T16:20:37.785805",
     "status": "completed"
    },
    "tags": []
   },
   "outputs": [
    {
     "name": "stdout",
     "output_type": "stream",
     "text": [
      "\n",
      "Classification Report for Logistic Regression\n",
      "\n",
      "              precision    recall  f1-score   support\n",
      "\n",
      "           0       0.93      1.00      0.97        56\n",
      "           1       1.00      0.94      0.97        67\n",
      "           2       1.00      1.00      1.00        77\n",
      "\n",
      "    accuracy                           0.98       200\n",
      "   macro avg       0.98      0.98      0.98       200\n",
      "weighted avg       0.98      0.98      0.98       200\n",
      "\n"
     ]
    }
   ],
   "source": [
    "# Classification Report\n",
    "\n",
    "print('\\nClassification Report for Logistic Regression\\n')\n",
    "print(classification_report(y_test, y_predict1))\n"
   ]
  },
  {
   "cell_type": "markdown",
   "id": "d11d6228",
   "metadata": {
    "papermill": {
     "duration": 0.034334,
     "end_time": "2023-01-09T16:20:37.905646",
     "exception": false,
     "start_time": "2023-01-09T16:20:37.871312",
     "status": "completed"
    },
    "tags": []
   },
   "source": [
    "# **Gaussian Naive Bayes**"
   ]
  },
  {
   "cell_type": "code",
   "execution_count": 28,
   "id": "5e6ccb6a",
   "metadata": {
    "execution": {
     "iopub.execute_input": "2023-01-09T16:20:37.977683Z",
     "iopub.status.busy": "2023-01-09T16:20:37.977229Z",
     "iopub.status.idle": "2023-01-09T16:20:37.986518Z",
     "shell.execute_reply": "2023-01-09T16:20:37.985110Z"
    },
    "papermill": {
     "duration": 0.048732,
     "end_time": "2023-01-09T16:20:37.989411",
     "exception": false,
     "start_time": "2023-01-09T16:20:37.940679",
     "status": "completed"
    },
    "tags": []
   },
   "outputs": [],
   "source": [
    "# Gaussian Naive Bayes\n",
    "\n",
    "GaussianNB = GaussianNB()\n",
    "\n",
    "GaussianNB.fit(X_train_scaled, y_train)\n",
    "\n",
    "y_predict2 = GaussianNB.predict(X_test_scaled)"
   ]
  },
  {
   "cell_type": "markdown",
   "id": "d2f3ff9d",
   "metadata": {
    "papermill": {
     "duration": 0.03383,
     "end_time": "2023-01-09T16:20:38.057715",
     "exception": false,
     "start_time": "2023-01-09T16:20:38.023885",
     "status": "completed"
    },
    "tags": []
   },
   "source": [
    "**Confusion Matrix**"
   ]
  },
  {
   "cell_type": "code",
   "execution_count": 29,
   "id": "c7450976",
   "metadata": {
    "execution": {
     "iopub.execute_input": "2023-01-09T16:20:38.129019Z",
     "iopub.status.busy": "2023-01-09T16:20:38.128218Z",
     "iopub.status.idle": "2023-01-09T16:20:38.450764Z",
     "shell.execute_reply": "2023-01-09T16:20:38.449616Z"
    },
    "papermill": {
     "duration": 0.361857,
     "end_time": "2023-01-09T16:20:38.453914",
     "exception": false,
     "start_time": "2023-01-09T16:20:38.092057",
     "status": "completed"
    },
    "tags": []
   },
   "outputs": [
    {
     "data": {
      "image/png": "[encoded data removed]",
      "text/plain": [
       "<Figure size 360x360 with 2 Axes>"
      ]
     },
     "metadata": {
      "needs_background": "light"
     },
     "output_type": "display_data"
    }
   ],
   "source": [
    "# Confusion Matrix\n",
    "\n",
    "GaussianNB_cm = confusion_matrix(y_test, y_predict2)\n",
    "f, ax = plt.subplots(figsize=(5,5))\n",
    "sns.heatmap(GaussianNB_cm, annot=True, linewidth=0.7, linecolor='cyan', fmt='g', ax=ax, cmap=\"YlGnBu\")\n",
    "plt.title('Gaussian Naive Bayes Classification Confusion Matrix\\n')\n",
    "plt.xlabel('y predict')\n",
    "plt.ylabel('y test')\n",
    "plt.show()\n"
   ]
  },
  {
   "cell_type": "markdown",
   "id": "3ad4564a",
   "metadata": {
    "papermill": {
     "duration": 0.035776,
     "end_time": "2023-01-09T16:20:38.525789",
     "exception": false,
     "start_time": "2023-01-09T16:20:38.490013",
     "status": "completed"
    },
    "tags": []
   },
   "source": [
    "**Test Score**"
   ]
  },
  {
   "cell_type": "code",
   "execution_count": 30,
   "id": "4847df30",
   "metadata": {
    "execution": {
     "iopub.execute_input": "2023-01-09T16:20:38.600052Z",
     "iopub.status.busy": "2023-01-09T16:20:38.598935Z",
     "iopub.status.idle": "2023-01-09T16:20:38.606956Z",
     "shell.execute_reply": "2023-01-09T16:20:38.605537Z"
    },
    "papermill": {
     "duration": 0.047982,
     "end_time": "2023-01-09T16:20:38.609598",
     "exception": false,
     "start_time": "2023-01-09T16:20:38.561616",
     "status": "completed"
    },
    "tags": []
   },
   "outputs": [
    {
     "name": "stdout",
     "output_type": "stream",
     "text": [
      "Gaussian Naive Bayes Score =  0.855\n"
     ]
    }
   ],
   "source": [
    "# Test Score\n",
    "\n",
    "score_GaussianNB = GaussianNB.score(X_test_scaled, y_test)\n",
    "print('Gaussian Naive Bayes Score = ',score_GaussianNB)\n"
   ]
  },
  {
   "cell_type": "code",
   "execution_count": 31,
   "id": "8289e502",
   "metadata": {
    "execution": {
     "iopub.execute_input": "2023-01-09T16:20:38.683051Z",
     "iopub.status.busy": "2023-01-09T16:20:38.682244Z",
     "iopub.status.idle": "2023-01-09T16:20:38.693549Z",
     "shell.execute_reply": "2023-01-09T16:20:38.692090Z"
    },
    "papermill": {
     "duration": 0.051822,
     "end_time": "2023-01-09T16:20:38.696628",
     "exception": false,
     "start_time": "2023-01-09T16:20:38.644806",
     "status": "completed"
    },
    "scrolled": true,
    "tags": []
   },
   "outputs": [
    {
     "name": "stdout",
     "output_type": "stream",
     "text": [
      "\n",
      "Classification Report for Gaussian Naive Bayes\n",
      "\n",
      "              precision    recall  f1-score   support\n",
      "\n",
      "           0       0.82      0.88      0.84        56\n",
      "           1       0.87      0.70      0.78        67\n",
      "           2       0.87      0.97      0.92        77\n",
      "\n",
      "    accuracy                           0.85       200\n",
      "   macro avg       0.85      0.85      0.85       200\n",
      "weighted avg       0.86      0.85      0.85       200\n",
      "\n"
     ]
    }
   ],
   "source": [
    "# Classification Report\n",
    "print('\\nClassification Report for Gaussian Naive Bayes\\n')\n",
    "print(classification_report(y_test, y_predict2))\n"
   ]
  },
  {
   "cell_type": "markdown",
   "id": "e344deb9",
   "metadata": {},
   "source": [
    "# **K Nearest Neighbors**"
   ]
  },
  {
   "cell_type": "code",
   "execution_count": 32,
   "id": "a0603e10",
   "metadata": {
    "scrolled": true
   },
   "outputs": [],
   "source": [
    "K_Nearest_Neighbors = KNeighborsClassifier(n_neighbors = 1)\n",
    " \n",
    "K_Nearest_Neighbors.fit(X_test_scaled, y_test)\n",
    "pred = K_Nearest_Neighbors.predict(X_test_scaled)"
   ]
  },
  {
   "cell_type": "code",
   "execution_count": 33,
   "id": "810e2a53",
   "metadata": {},
   "outputs": [
    {
     "name": "stdout",
     "output_type": "stream",
     "text": [
      "K_Nearest_Neighbors =  1.0\n"
     ]
    }
   ],
   "source": [
    "# Test Score\n",
    "score_K_Nearest_Neighbors = K_Nearest_Neighbors.score(X_test_scaled, y_test)\n",
    "print('K_Nearest_Neighbors = ', score_K_Nearest_Neighbors)"
   ]
  },
  {
   "cell_type": "code",
   "execution_count": 34,
   "id": "59a5348a",
   "metadata": {},
   "outputs": [
    {
     "name": "stdout",
     "output_type": "stream",
     "text": [
      "classification report of KN earest Neighbors\n",
      "              precision    recall  f1-score   support\n",
      "\n",
      "           0       1.00      1.00      1.00        56\n",
      "           1       1.00      1.00      1.00        67\n",
      "           2       1.00      1.00      1.00        77\n",
      "\n",
      "    accuracy                           1.00       200\n",
      "   macro avg       1.00      1.00      1.00       200\n",
      "weighted avg       1.00      1.00      1.00       200\n",
      "\n"
     ]
    }
   ],
   "source": [
    "print(\"classification report of KN earest Neighbors\")\n",
    "print(classification_report(y_test, pred))\n"
   ]
  },
  {
   "cell_type": "code",
   "execution_count": 35,
   "id": "18e58efc",
   "metadata": {},
   "outputs": [
    {
     "name": "stdout",
     "output_type": "stream",
     "text": [
      "\n",
      "\n"
     ]
    },
    {
     "data": {
      "image/png": "[encoded data removed]",
      "text/plain": [
       "<Figure size 360x360 with 2 Axes>"
      ]
     },
     "metadata": {
      "needs_background": "light"
     },
     "output_type": "display_data"
    },
    {
     "name": "stdout",
     "output_type": "stream",
     "text": [
      "\n",
      "\n"
     ]
    }
   ],
   "source": [
    "# Confusion Matrix\n",
    "\n",
    "K_Nearest_Neighbors_cm = confusion_matrix(y_test, pred)\n",
    "f, ax = plt.subplots(figsize=(5,5))\n",
    "sns.heatmap(K_Nearest_Neighbors_cm, annot=True, linewidth=0.7, linecolor='cyan', fmt='g', ax=ax, cmap=\"YlGnBu\")\n",
    "plt.title('KN earest Neighbors Confusion Matrix\\n')\n",
    "plt.xlabel('y predict')\n",
    "plt.ylabel('y test')\n",
    "print('\\n')\n",
    "plt.show()\n",
    "print('\\n')"
   ]
  },
  {
   "cell_type": "markdown",
   "id": "b5f4c749",
   "metadata": {
    "papermill": {
     "duration": 0.034876,
     "end_time": "2023-01-09T16:20:38.767680",
     "exception": false,
     "start_time": "2023-01-09T16:20:38.732804",
     "status": "completed"
    },
    "tags": []
   },
   "source": [
    "# **Decision Tree**"
   ]
  },
  {
   "cell_type": "code",
   "execution_count": 36,
   "id": "e75642d8",
   "metadata": {
    "execution": {
     "iopub.execute_input": "2023-01-09T16:20:38.842144Z",
     "iopub.status.busy": "2023-01-09T16:20:38.840900Z",
     "iopub.status.idle": "2023-01-09T16:20:38.849533Z",
     "shell.execute_reply": "2023-01-09T16:20:38.848494Z"
    },
    "papermill": {
     "duration": 0.049097,
     "end_time": "2023-01-09T16:20:38.852278",
     "exception": false,
     "start_time": "2023-01-09T16:20:38.803181",
     "status": "completed"
    },
    "tags": []
   },
   "outputs": [],
   "source": [
    "# Decision Tree\n",
    "\n",
    "DecisionTreeClassifier = DecisionTreeClassifier(random_state=9)\n",
    "\n",
    "DecisionTreeClassifier.fit(X_train_scaled, y_train)\n",
    "\n",
    "y_predict3 = DecisionTreeClassifier.predict(X_test_scaled)"
   ]
  },
  {
   "cell_type": "markdown",
   "id": "a7767ddf",
   "metadata": {
    "papermill": {
     "duration": 0.03569,
     "end_time": "2023-01-09T16:20:38.923338",
     "exception": false,
     "start_time": "2023-01-09T16:20:38.887648",
     "status": "completed"
    },
    "tags": []
   },
   "source": [
    "**Confusion Matrix**"
   ]
  },
  {
   "cell_type": "code",
   "execution_count": 37,
   "id": "d23761f4",
   "metadata": {
    "execution": {
     "iopub.execute_input": "2023-01-09T16:20:38.996582Z",
     "iopub.status.busy": "2023-01-09T16:20:38.996089Z",
     "iopub.status.idle": "2023-01-09T16:20:39.317310Z",
     "shell.execute_reply": "2023-01-09T16:20:39.316334Z"
    },
    "papermill": {
     "duration": 0.362574,
     "end_time": "2023-01-09T16:20:39.321557",
     "exception": false,
     "start_time": "2023-01-09T16:20:38.958983",
     "status": "completed"
    },
    "tags": []
   },
   "outputs": [
    {
     "name": "stdout",
     "output_type": "stream",
     "text": [
      "\n",
      "\n"
     ]
    },
    {
     "data": {
      "image/png": "[encoded data removed]",
      "text/plain": [
       "<Figure size 360x360 with 2 Axes>"
      ]
     },
     "metadata": {
      "needs_background": "light"
     },
     "output_type": "display_data"
    },
    {
     "name": "stdout",
     "output_type": "stream",
     "text": [
      "\n",
      "\n"
     ]
    }
   ],
   "source": [
    "# Confusion Matrix\n",
    "\n",
    "DecisionTreeClassifier_cm = confusion_matrix(y_test, y_predict3)\n",
    "f, ax = plt.subplots(figsize=(5,5))\n",
    "sns.heatmap(DecisionTreeClassifier_cm, annot=True, linewidth=0.7, linecolor='cyan', fmt='g', ax=ax, cmap=\"YlGnBu\")\n",
    "plt.title('Decision Tree Classification Confusion Matrix\\n')\n",
    "plt.xlabel('y predict')\n",
    "plt.ylabel('y test')\n",
    "print('\\n')\n",
    "plt.show()\n",
    "print('\\n')"
   ]
  },
  {
   "cell_type": "markdown",
   "id": "b6d2dad3",
   "metadata": {
    "papermill": {
     "duration": 0.03598,
     "end_time": "2023-01-09T16:20:39.394727",
     "exception": false,
     "start_time": "2023-01-09T16:20:39.358747",
     "status": "completed"
    },
    "tags": []
   },
   "source": [
    "**Test Score**"
   ]
  },
  {
   "cell_type": "code",
   "execution_count": 38,
   "id": "00e6c0ef",
   "metadata": {
    "execution": {
     "iopub.execute_input": "2023-01-09T16:20:39.469243Z",
     "iopub.status.busy": "2023-01-09T16:20:39.467964Z",
     "iopub.status.idle": "2023-01-09T16:20:39.477170Z",
     "shell.execute_reply": "2023-01-09T16:20:39.475538Z"
    },
    "papermill": {
     "duration": 0.049773,
     "end_time": "2023-01-09T16:20:39.480338",
     "exception": false,
     "start_time": "2023-01-09T16:20:39.430565",
     "status": "completed"
    },
    "tags": []
   },
   "outputs": [
    {
     "name": "stdout",
     "output_type": "stream",
     "text": [
      "Decision Tree Score =  1.0\n"
     ]
    }
   ],
   "source": [
    "# Test Score\n",
    "score_DecisionTreeClassifier = DecisionTreeClassifier.score(X_test_scaled, y_test)\n",
    "print('Decision Tree Score = ', score_DecisionTreeClassifier)"
   ]
  },
  {
   "cell_type": "code",
   "execution_count": 39,
   "id": "65533e78",
   "metadata": {
    "execution": {
     "iopub.execute_input": "2023-01-09T16:20:39.555520Z",
     "iopub.status.busy": "2023-01-09T16:20:39.554999Z",
     "iopub.status.idle": "2023-01-09T16:20:39.567013Z",
     "shell.execute_reply": "2023-01-09T16:20:39.565464Z"
    },
    "papermill": {
     "duration": 0.052841,
     "end_time": "2023-01-09T16:20:39.570220",
     "exception": false,
     "start_time": "2023-01-09T16:20:39.517379",
     "status": "completed"
    },
    "tags": []
   },
   "outputs": [
    {
     "name": "stdout",
     "output_type": "stream",
     "text": [
      "Classification Tree for Decision Tree\n",
      "              precision    recall  f1-score   support\n",
      "\n",
      "           0       1.00      1.00      1.00        56\n",
      "           1       1.00      1.00      1.00        67\n",
      "           2       1.00      1.00      1.00        77\n",
      "\n",
      "    accuracy                           1.00       200\n",
      "   macro avg       1.00      1.00      1.00       200\n",
      "weighted avg       1.00      1.00      1.00       200\n",
      "\n"
     ]
    }
   ],
   "source": [
    "# Classification Report\n",
    "print('Classification Tree for Decision Tree')\n",
    "print(classification_report(y_test, y_predict3))\n"
   ]
  },
  {
   "cell_type": "markdown",
   "id": "6d233948",
   "metadata": {
    "papermill": {
     "duration": 0.035824,
     "end_time": "2023-01-09T16:20:39.643078",
     "exception": false,
     "start_time": "2023-01-09T16:20:39.607254",
     "status": "completed"
    },
    "tags": []
   },
   "source": [
    "# **All Test Scores**"
   ]
  },
  {
   "cell_type": "code",
   "execution_count": 40,
   "id": "e41b9ec5",
   "metadata": {
    "execution": {
     "iopub.execute_input": "2023-01-09T16:20:39.717853Z",
     "iopub.status.busy": "2023-01-09T16:20:39.717396Z",
     "iopub.status.idle": "2023-01-09T16:20:39.725939Z",
     "shell.execute_reply": "2023-01-09T16:20:39.724587Z"
    },
    "papermill": {
     "duration": 0.050384,
     "end_time": "2023-01-09T16:20:39.729756",
     "exception": false,
     "start_time": "2023-01-09T16:20:39.679372",
     "status": "completed"
    },
    "tags": []
   },
   "outputs": [
    {
     "name": "stdout",
     "output_type": "stream",
     "text": [
      "Logistic Regression Score =     0.980\n",
      "Naive Bayes Score =             0.855\n",
      "Decision Tree Score =           1.000\n",
      "K Nearest Neighbors score       1.000\n",
      "dtype: float64\n"
     ]
    }
   ],
   "source": [
    "# All Test Scores\n",
    "\n",
    "Testscores = pd.Series([score_LogisticRegression, score_GaussianNB, score_DecisionTreeClassifier,score_K_Nearest_Neighbors], \n",
    "                        index=['Logistic Regression Score = ', 'Naive Bayes Score = ', 'Decision Tree Score = ',\"K Nearest Neighbors score\"]) \n",
    "print(Testscores)\n"
   ]
  },
  {
   "cell_type": "markdown",
   "id": "eb3de510",
   "metadata": {
    "papermill": {
     "duration": 0.035505,
     "end_time": "2023-01-09T16:20:39.801223",
     "exception": false,
     "start_time": "2023-01-09T16:20:39.765718",
     "status": "completed"
    },
    "tags": []
   },
   "source": [
    "# **All Confusion Matrices**"
   ]
  },
  {
   "cell_type": "code",
   "execution_count": 41,
   "id": "e8378517",
   "metadata": {
    "execution": {
     "iopub.execute_input": "2023-01-09T16:20:39.875380Z",
     "iopub.status.busy": "2023-01-09T16:20:39.874511Z",
     "iopub.status.idle": "2023-01-09T16:20:40.799759Z",
     "shell.execute_reply": "2023-01-09T16:20:40.798228Z"
    },
    "papermill": {
     "duration": 0.96571,
     "end_time": "2023-01-09T16:20:40.802709",
     "exception": false,
     "start_time": "2023-01-09T16:20:39.836999",
     "status": "completed"
    },
    "scrolled": true,
    "tags": []
   },
   "outputs": [
    {
     "data": {
      "image/png": "[encoded data removed]",
      "text/plain": [
       "<Figure size 1440x1080 with 8 Axes>"
      ]
     },
     "metadata": {
      "needs_background": "light"
     },
     "output_type": "display_data"
    }
   ],
   "source": [
    "# All Confusion Matrices\n",
    "\n",
    "fig = plt.figure(figsize=(20,15))\n",
    "ax1 = fig.add_subplot(4, 4, 1) \n",
    "ax1.set_title('Logistic Regression Classification\\n') \n",
    "ax2 = fig.add_subplot(4, 4, 2)\n",
    "ax2.set_title('Naive Bayes Classification\\n')\n",
    "ax3 = fig.add_subplot(4, 4, 3)\n",
    "ax3.set_title('Decision Tree Classification\\n')\n",
    "ax4 = fig.add_subplot(4, 4, 4)\n",
    "ax4.set_title('K Nearest Neighbors\\n')\n",
    "\n",
    "sns.heatmap(data=LogisticRegression_cm, annot=True, linewidth=0.7, linecolor='cyan',cmap=\"YlGnBu\" ,fmt='g', ax=ax1)\n",
    "sns.heatmap(data=GaussianNB_cm, annot=True, linewidth=0.7, linecolor='cyan',cmap=\"YlGnBu\" ,fmt='g', ax=ax2)\n",
    "sns.heatmap(data=DecisionTreeClassifier_cm, annot=True, linewidth=0.7, linecolor='cyan',cmap=\"YlGnBu\" ,fmt='g', ax=ax3)\n",
    "sns.heatmap(data=K_Nearest_Neighbors_cm, annot=True, linewidth=0.7, linecolor='cyan',cmap=\"YlGnBu\" ,fmt='g', ax=ax4)\n",
    "\n",
    "plt.show()\n"
   ]
  },
  {
   "cell_type": "markdown",
   "id": "31ca03b2",
   "metadata": {
    "papermill": {
     "duration": 0.036428,
     "end_time": "2023-01-09T16:20:40.876656",
     "exception": false,
     "start_time": "2023-01-09T16:20:40.840228",
     "status": "completed"
    },
    "tags": []
   },
   "source": [
    "# **Comparison**"
   ]
  },
  {
   "cell_type": "code",
   "execution_count": 42,
   "id": "5d28739b",
   "metadata": {
    "execution": {
     "iopub.execute_input": "2023-01-09T16:20:40.954547Z",
     "iopub.status.busy": "2023-01-09T16:20:40.953731Z",
     "iopub.status.idle": "2023-01-09T16:20:40.959330Z",
     "shell.execute_reply": "2023-01-09T16:20:40.958359Z"
    },
    "papermill": {
     "duration": 0.047338,
     "end_time": "2023-01-09T16:20:40.961735",
     "exception": false,
     "start_time": "2023-01-09T16:20:40.914397",
     "status": "completed"
    },
    "tags": []
   },
   "outputs": [],
   "source": [
    "# Comparison of Algorithms\n",
    "\n",
    "x=['Logistic Regression', 'G. Naive Bayes', 'Decision Tree',\"K Nearest Neighbors\",]\n",
    "y = [score_LogisticRegression, score_GaussianNB, score_DecisionTreeClassifier,score_K_Nearest_Neighbors]"
   ]
  },
  {
   "cell_type": "code",
   "execution_count": 43,
   "id": "bf88f920",
   "metadata": {
    "execution": {
     "iopub.execute_input": "2023-01-09T16:20:41.039771Z",
     "iopub.status.busy": "2023-01-09T16:20:41.038390Z",
     "iopub.status.idle": "2023-01-09T16:20:41.255009Z",
     "shell.execute_reply": "2023-01-09T16:20:41.253598Z"
    },
    "papermill": {
     "duration": 0.259846,
     "end_time": "2023-01-09T16:20:41.259281",
     "exception": false,
     "start_time": "2023-01-09T16:20:40.999435",
     "status": "completed"
    },
    "scrolled": true,
    "tags": []
   },
   "outputs": [
    {
     "data": {
      "image/png": "[encoded data removed]",
      "text/plain": [
       "<Figure size 432x288 with 1 Axes>"
      ]
     },
     "metadata": {
      "needs_background": "light"
     },
     "output_type": "display_data"
    }
   ],
   "source": [
    "# Bar Plot\n",
    "\n",
    "plt.bar(x,y)\n",
    "plt.xlabel('\\nClassification Algorithms')\n",
    "plt.ylabel(\"Scores\\n\")\n",
    "plt.title('Classification Algorithms Score Comparison Bar Plot\\n')\n",
    "plt.show()"
   ]
  },
  {
   "cell_type": "code",
   "execution_count": 47,
   "id": "a23fdca6",
   "metadata": {
    "execution": {
     "iopub.execute_input": "2023-01-09T16:20:41.339100Z",
     "iopub.status.busy": "2023-01-09T16:20:41.338027Z",
     "iopub.status.idle": "2023-01-09T16:20:41.552469Z",
     "shell.execute_reply": "2023-01-09T16:20:41.551196Z"
    },
    "papermill": {
     "duration": 0.257,
     "end_time": "2023-01-09T16:20:41.555657",
     "exception": false,
     "start_time": "2023-01-09T16:20:41.298657",
     "status": "completed"
    },
    "tags": []
   },
   "outputs": [
    {
     "name": "stderr",
     "output_type": "stream",
     "text": [
      "*c* argument looks like a single numeric RGB or RGBA sequence, which should be avoided as value-mapping will have precedence in case its length matches with *x* & *y*.  Please use the *color* keyword-argument or provide a 2D array with a single row if you intend to specify the same RGB or RGBA value for all points.\n"
     ]
    },
    {
     "data": {
      "image/png": "[encoded data removed]",
      "text/plain": [
       "<Figure size 432x288 with 1 Axes>"
      ]
     },
     "metadata": {
      "needs_background": "light"
     },
     "output_type": "display_data"
    }
   ],
   "source": [
    "# Scatter Plot\n",
    "\n",
    "colors = np.random.rand(3)\n",
    "plt.xlabel('\\nClassification Algorithms')\n",
    "plt.ylabel(\"Scores\\n\")\n",
    "plt.title('Classification Algorithms Score Comparison Scatter Plot\\n')\n",
    "plt.scatter(x, y, s=200, c=colors)\n",
    "plt.show()"
   ]
  },
  {
   "cell_type": "code",
   "execution_count": 45,
   "id": "d8711955",
   "metadata": {
    "execution": {
     "iopub.execute_input": "2023-01-09T16:20:41.640625Z",
     "iopub.status.busy": "2023-01-09T16:20:41.640072Z",
     "iopub.status.idle": "2023-01-09T16:20:41.651382Z",
     "shell.execute_reply": "2023-01-09T16:20:41.649707Z"
    },
    "papermill": {
     "duration": 0.057961,
     "end_time": "2023-01-09T16:20:41.654772",
     "exception": false,
     "start_time": "2023-01-09T16:20:41.596811",
     "status": "completed"
    },
    "scrolled": true,
    "tags": []
   },
   "outputs": [
    {
     "name": "stdout",
     "output_type": "stream",
     "text": [
      "\n",
      "Decision Tree Performs Better\n",
      "\n"
     ]
    }
   ],
   "source": [
    "# Compare Scores and Find Out The Best Algorithm\n",
    "\n",
    "al = False\n",
    "ln = False\n",
    "ld = False\n",
    "nd = False\n",
    "\n",
    "if score_LogisticRegression == score_GaussianNB  and score_LogisticRegression == score_DecisionTreeClassifier and score_GaussianNB == score_DecisionTreeClassifier  :\n",
    "    al = True\n",
    "\n",
    "if score_LogisticRegression == score_GaussianNB:\n",
    "    ln = True\n",
    "    \n",
    "if score_LogisticRegression == score_DecisionTreeClassifier:\n",
    "    ld = True\n",
    "    \n",
    "if score_GaussianNB == score_DecisionTreeClassifier:\n",
    "    nd = True\n",
    "      \n",
    "if al:\n",
    "    print('\\nAll Models Perform The Same\\n')\n",
    "elif ln:\n",
    "    print('\\nLogistic Regression and Gaussian Naive Bayes Performs Better\\n')\n",
    "elif ld:\n",
    "    print('\\nLogistic Regression and Decision Tree Performs Better\\n')\n",
    "elif nd:\n",
    "    print('\\nGaussian Naive Bayes and Decision Tree Performs Better\\n')\n",
    "else:\n",
    "    if score_LogisticRegression > score_GaussianNB and score_LogisticRegression > score_DecisionTreeClassifier:\n",
    "        print('\\nLogistic Regression Performs Better\\n')\n",
    "    if score_GaussianNB > score_LogisticRegression and score_GaussianNB > score_DecisionTreeClassifier:\n",
    "        print('\\nGaussian Naive Bayes Performs Better\\n')\n",
    "    if score_DecisionTreeClassifier > score_LogisticRegression and score_DecisionTreeClassifier > score_GaussianNB:\n",
    "        print('\\nDecision Tree Performs Better\\n')"
   ]
  },
  {
   "cell_type": "code",
   "execution_count": null,
   "id": "d85c74d8",
   "metadata": {},
   "outputs": [],
   "source": []
  }
 ],
 "metadata": {
  "kernelspec": {
   "display_name": "Python 3 (ipykernel)",
   "language": "python",
   "name": "python3"
  },
  "language_info": {
   "codemirror_mode": {
    "name": "ipython",
    "version": 3
   },
   "file_extension": ".py",
   "mimetype": "text/x-python",
   "name": "python",
   "nbconvert_exporter": "python",
   "pygments_lexer": "ipython3",
   "version": "3.9.12"
  },
  "papermill": {
   "default_parameters": {},
   "duration": 26.878,
   "end_time": "2023-01-09T16:20:42.719971",
   "environment_variables": {},
   "exception": null,
   "input_path": "__notebook__.ipynb",
   "output_path": "__notebook__.ipynb",
   "parameters": {},
   "start_time": "2023-01-09T16:20:15.841971",
   "version": "2.3.4"
  }
 },
 "nbformat": 4,
 "nbformat_minor": 5
}
